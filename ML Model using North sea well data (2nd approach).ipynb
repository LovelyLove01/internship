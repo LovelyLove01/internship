{
 "cells": [
  {
   "cell_type": "code",
   "execution_count": 2,
   "id": "ba428165",
   "metadata": {},
   "outputs": [],
   "source": [
    "import xgboost as xgb\n",
    "import pandas as pd\n",
    "import matplotlib.pyplot as plt\n",
    "import numpy as np\n",
    "import lasio"
   ]
  },
  {
   "cell_type": "code",
   "execution_count": 3,
   "id": "73f431a0",
   "metadata": {},
   "outputs": [],
   "source": [
    "#import train data sets\n",
    "las1=lasio.read(\"well-log-data/15_9-13.las\")\n",
    "las2=lasio.read(\"well-log-data/16_8-1.las\")\n",
    "las3=lasio.read(\"well-log-data/25_11-5.las\")\n",
    "las4=lasio.read(\"well-log-data/25_6-3 (1).las\")"
   ]
  },
  {
   "cell_type": "code",
   "execution_count": 4,
   "id": "b6bd1d6c",
   "metadata": {},
   "outputs": [],
   "source": [
    "#convert las file into pd data frame\n",
    "df1=las1.df()\n",
    "df2=las2.df()\n",
    "df3=las3.df()\n",
    "df4=las4.df()"
   ]
  },
  {
   "cell_type": "code",
   "execution_count": 5,
   "id": "db705b85",
   "metadata": {},
   "outputs": [
    {
     "data": {
      "text/html": [
       "<div>\n",
       "<style scoped>\n",
       "    .dataframe tbody tr th:only-of-type {\n",
       "        vertical-align: middle;\n",
       "    }\n",
       "\n",
       "    .dataframe tbody tr th {\n",
       "        vertical-align: top;\n",
       "    }\n",
       "\n",
       "    .dataframe thead th {\n",
       "        text-align: right;\n",
       "    }\n",
       "</style>\n",
       "<table border=\"1\" class=\"dataframe\">\n",
       "  <thead>\n",
       "    <tr style=\"text-align: right;\">\n",
       "      <th></th>\n",
       "      <th>FORCE_2020_LITHOFACIES_CONFIDENCE</th>\n",
       "      <th>FORCE_2020_LITHOFACIES_LITHOLOGY</th>\n",
       "      <th>CALI</th>\n",
       "      <th>BS</th>\n",
       "      <th>MUDWEIGHT</th>\n",
       "      <th>ROP</th>\n",
       "      <th>RDEP</th>\n",
       "      <th>RSHA</th>\n",
       "      <th>RMED</th>\n",
       "      <th>RMIC</th>\n",
       "      <th>SP</th>\n",
       "      <th>DTS</th>\n",
       "      <th>DTC</th>\n",
       "      <th>NPHI</th>\n",
       "      <th>GR</th>\n",
       "      <th>RHOB</th>\n",
       "      <th>DEPTH_MD</th>\n",
       "      <th>X_LOC</th>\n",
       "      <th>Y_LOC</th>\n",
       "      <th>Z_LOC</th>\n",
       "    </tr>\n",
       "    <tr>\n",
       "      <th>DEPT</th>\n",
       "      <th></th>\n",
       "      <th></th>\n",
       "      <th></th>\n",
       "      <th></th>\n",
       "      <th></th>\n",
       "      <th></th>\n",
       "      <th></th>\n",
       "      <th></th>\n",
       "      <th></th>\n",
       "      <th></th>\n",
       "      <th></th>\n",
       "      <th></th>\n",
       "      <th></th>\n",
       "      <th></th>\n",
       "      <th></th>\n",
       "      <th></th>\n",
       "      <th></th>\n",
       "      <th></th>\n",
       "      <th></th>\n",
       "      <th></th>\n",
       "    </tr>\n",
       "  </thead>\n",
       "  <tbody>\n",
       "    <tr>\n",
       "      <th>138.099729</th>\n",
       "      <td>NaN</td>\n",
       "      <td>NaN</td>\n",
       "      <td>NaN</td>\n",
       "      <td>NaN</td>\n",
       "      <td>NaN</td>\n",
       "      <td>32.879009</td>\n",
       "      <td>NaN</td>\n",
       "      <td>NaN</td>\n",
       "      <td>NaN</td>\n",
       "      <td>NaN</td>\n",
       "      <td>NaN</td>\n",
       "      <td>NaN</td>\n",
       "      <td>NaN</td>\n",
       "      <td>NaN</td>\n",
       "      <td>NaN</td>\n",
       "      <td>NaN</td>\n",
       "      <td>NaN</td>\n",
       "      <td>NaN</td>\n",
       "      <td>NaN</td>\n",
       "      <td>NaN</td>\n",
       "    </tr>\n",
       "    <tr>\n",
       "      <th>138.251729</th>\n",
       "      <td>NaN</td>\n",
       "      <td>NaN</td>\n",
       "      <td>NaN</td>\n",
       "      <td>NaN</td>\n",
       "      <td>NaN</td>\n",
       "      <td>32.929207</td>\n",
       "      <td>NaN</td>\n",
       "      <td>NaN</td>\n",
       "      <td>NaN</td>\n",
       "      <td>NaN</td>\n",
       "      <td>NaN</td>\n",
       "      <td>NaN</td>\n",
       "      <td>NaN</td>\n",
       "      <td>NaN</td>\n",
       "      <td>NaN</td>\n",
       "      <td>NaN</td>\n",
       "      <td>NaN</td>\n",
       "      <td>NaN</td>\n",
       "      <td>NaN</td>\n",
       "      <td>NaN</td>\n",
       "    </tr>\n",
       "    <tr>\n",
       "      <th>138.403729</th>\n",
       "      <td>NaN</td>\n",
       "      <td>NaN</td>\n",
       "      <td>NaN</td>\n",
       "      <td>NaN</td>\n",
       "      <td>NaN</td>\n",
       "      <td>32.979416</td>\n",
       "      <td>NaN</td>\n",
       "      <td>NaN</td>\n",
       "      <td>NaN</td>\n",
       "      <td>NaN</td>\n",
       "      <td>NaN</td>\n",
       "      <td>NaN</td>\n",
       "      <td>NaN</td>\n",
       "      <td>NaN</td>\n",
       "      <td>NaN</td>\n",
       "      <td>NaN</td>\n",
       "      <td>NaN</td>\n",
       "      <td>NaN</td>\n",
       "      <td>NaN</td>\n",
       "      <td>NaN</td>\n",
       "    </tr>\n",
       "    <tr>\n",
       "      <th>138.555729</th>\n",
       "      <td>NaN</td>\n",
       "      <td>NaN</td>\n",
       "      <td>NaN</td>\n",
       "      <td>NaN</td>\n",
       "      <td>NaN</td>\n",
       "      <td>33.029613</td>\n",
       "      <td>NaN</td>\n",
       "      <td>NaN</td>\n",
       "      <td>NaN</td>\n",
       "      <td>NaN</td>\n",
       "      <td>NaN</td>\n",
       "      <td>NaN</td>\n",
       "      <td>NaN</td>\n",
       "      <td>NaN</td>\n",
       "      <td>NaN</td>\n",
       "      <td>NaN</td>\n",
       "      <td>NaN</td>\n",
       "      <td>NaN</td>\n",
       "      <td>NaN</td>\n",
       "      <td>NaN</td>\n",
       "    </tr>\n",
       "    <tr>\n",
       "      <th>138.707729</th>\n",
       "      <td>NaN</td>\n",
       "      <td>NaN</td>\n",
       "      <td>NaN</td>\n",
       "      <td>NaN</td>\n",
       "      <td>NaN</td>\n",
       "      <td>33.117496</td>\n",
       "      <td>NaN</td>\n",
       "      <td>NaN</td>\n",
       "      <td>NaN</td>\n",
       "      <td>NaN</td>\n",
       "      <td>NaN</td>\n",
       "      <td>NaN</td>\n",
       "      <td>NaN</td>\n",
       "      <td>NaN</td>\n",
       "      <td>NaN</td>\n",
       "      <td>NaN</td>\n",
       "      <td>NaN</td>\n",
       "      <td>NaN</td>\n",
       "      <td>NaN</td>\n",
       "      <td>NaN</td>\n",
       "    </tr>\n",
       "  </tbody>\n",
       "</table>\n",
       "</div>"
      ],
      "text/plain": [
       "            FORCE_2020_LITHOFACIES_CONFIDENCE  \\\n",
       "DEPT                                            \n",
       "138.099729                                NaN   \n",
       "138.251729                                NaN   \n",
       "138.403729                                NaN   \n",
       "138.555729                                NaN   \n",
       "138.707729                                NaN   \n",
       "\n",
       "            FORCE_2020_LITHOFACIES_LITHOLOGY  CALI  BS  MUDWEIGHT        ROP  \\\n",
       "DEPT                                                                           \n",
       "138.099729                               NaN   NaN NaN        NaN  32.879009   \n",
       "138.251729                               NaN   NaN NaN        NaN  32.929207   \n",
       "138.403729                               NaN   NaN NaN        NaN  32.979416   \n",
       "138.555729                               NaN   NaN NaN        NaN  33.029613   \n",
       "138.707729                               NaN   NaN NaN        NaN  33.117496   \n",
       "\n",
       "            RDEP  RSHA  RMED  RMIC  SP  DTS  DTC  NPHI  GR  RHOB  DEPTH_MD  \\\n",
       "DEPT                                                                         \n",
       "138.099729   NaN   NaN   NaN   NaN NaN  NaN  NaN   NaN NaN   NaN       NaN   \n",
       "138.251729   NaN   NaN   NaN   NaN NaN  NaN  NaN   NaN NaN   NaN       NaN   \n",
       "138.403729   NaN   NaN   NaN   NaN NaN  NaN  NaN   NaN NaN   NaN       NaN   \n",
       "138.555729   NaN   NaN   NaN   NaN NaN  NaN  NaN   NaN NaN   NaN       NaN   \n",
       "138.707729   NaN   NaN   NaN   NaN NaN  NaN  NaN   NaN NaN   NaN       NaN   \n",
       "\n",
       "            X_LOC  Y_LOC  Z_LOC  \n",
       "DEPT                             \n",
       "138.099729    NaN    NaN    NaN  \n",
       "138.251729    NaN    NaN    NaN  \n",
       "138.403729    NaN    NaN    NaN  \n",
       "138.555729    NaN    NaN    NaN  \n",
       "138.707729    NaN    NaN    NaN  "
      ]
     },
     "execution_count": 5,
     "metadata": {},
     "output_type": "execute_result"
    }
   ],
   "source": [
    "df4.head()"
   ]
  },
  {
   "cell_type": "code",
   "execution_count": 6,
   "id": "3b2705a8",
   "metadata": {},
   "outputs": [
    {
     "name": "stdout",
     "output_type": "stream",
     "text": [
      "          FORCE_2020_LITHOFACIES_CONFIDENCE  FORCE_2020_LITHOFACIES_LITHOLOGY  \\\n",
      "DEPT                                                                            \n",
      "25.000                                  NaN                               NaN   \n",
      "25.152                                  NaN                               NaN   \n",
      "25.304                                  NaN                               NaN   \n",
      "25.456                                  NaN                               NaN   \n",
      "25.608                                  NaN                               NaN   \n",
      "...                                     ...                               ...   \n",
      "3283.272                                NaN                               NaN   \n",
      "3283.424                                NaN                               NaN   \n",
      "3283.576                                NaN                               NaN   \n",
      "3283.728                                NaN                               NaN   \n",
      "3283.880                                NaN                               NaN   \n",
      "\n",
      "          CALI  MUDWEIGHT  ROP  RDEP  RSHA    RMED  RXO          SP  \\\n",
      "DEPT                                                                  \n",
      "25.000     NaN        NaN  NaN   NaN   NaN     NaN  NaN         NaN   \n",
      "25.152     NaN        NaN  NaN   NaN   NaN     NaN  NaN         NaN   \n",
      "25.304     NaN        NaN  NaN   NaN   NaN     NaN  NaN         NaN   \n",
      "25.456     NaN        NaN  NaN   NaN   NaN     NaN  NaN         NaN   \n",
      "25.608     NaN        NaN  NaN   NaN   NaN     NaN  NaN         NaN   \n",
      "...        ...        ...  ...   ...   ...     ...  ...         ...   \n",
      "3283.272   NaN        NaN  NaN   8.0   NaN  7.9922  NaN  152.693741   \n",
      "3283.424   NaN        NaN  NaN   8.0   NaN  7.9922  NaN  152.759003   \n",
      "3283.576   NaN        NaN  NaN   8.0   NaN  7.9922  NaN  151.934555   \n",
      "3283.728   NaN        NaN  NaN   8.0   NaN  7.9922  NaN  151.542679   \n",
      "3283.880   NaN        NaN  NaN   8.0   NaN  7.9922  NaN  151.691086   \n",
      "\n",
      "                 DTC  NPHI  PEF  GR  RHOB  DRHO     DEPTH_MD     X_LOC  \\\n",
      "DEPT                                                                     \n",
      "25.000    206.224609   NaN  NaN NaN   NaN   NaN          NaN       NaN   \n",
      "25.152    206.224625   NaN  NaN NaN   NaN   NaN          NaN       NaN   \n",
      "25.304    206.224655   NaN  NaN NaN   NaN   NaN          NaN       NaN   \n",
      "25.456    206.224670   NaN  NaN NaN   NaN   NaN          NaN       NaN   \n",
      "25.608    206.224701   NaN  NaN NaN   NaN   NaN          NaN       NaN   \n",
      "...              ...   ...  ...  ..   ...   ...          ...       ...   \n",
      "3283.272         NaN   NaN  NaN NaN   NaN   NaN  3283.271973  437593.0   \n",
      "3283.424         NaN   NaN  NaN NaN   NaN   NaN  3283.424072  437593.0   \n",
      "3283.576         NaN   NaN  NaN NaN   NaN   NaN  3283.575928  437593.0   \n",
      "3283.728         NaN   NaN  NaN NaN   NaN   NaN  3283.728027  437593.0   \n",
      "3283.880         NaN   NaN  NaN NaN   NaN   NaN  3283.879883  437593.0   \n",
      "\n",
      "              Y_LOC        Z_LOC  \n",
      "DEPT                              \n",
      "25.000          NaN          NaN  \n",
      "25.152          NaN          NaN  \n",
      "25.304          NaN          NaN  \n",
      "25.456          NaN          NaN  \n",
      "25.608          NaN          NaN  \n",
      "...             ...          ...  \n",
      "3283.272  6470982.5 -3257.389893  \n",
      "3283.424  6470982.5 -3257.541992  \n",
      "3283.576  6470982.5 -3257.693848  \n",
      "3283.728  6470982.5 -3257.845703  \n",
      "3283.880  6470982.5 -3257.997803  \n",
      "\n",
      "[21441 rows x 20 columns]\n"
     ]
    }
   ],
   "source": [
    "print(df1)"
   ]
  },
  {
   "cell_type": "code",
   "execution_count": 7,
   "id": "f08dfb26",
   "metadata": {},
   "outputs": [
    {
     "name": "stdout",
     "output_type": "stream",
     "text": [
      "<class 'pandas.core.frame.DataFrame'>\n",
      "Index: 21441 entries, 25.0 to 3283.88\n",
      "Data columns (total 20 columns):\n",
      " #   Column                             Non-Null Count  Dtype  \n",
      "---  ------                             --------------  -----  \n",
      " 0   FORCE_2020_LITHOFACIES_CONFIDENCE  18277 non-null  float64\n",
      " 1   FORCE_2020_LITHOFACIES_LITHOLOGY   18270 non-null  float64\n",
      " 2   CALI                               18345 non-null  float64\n",
      " 3   MUDWEIGHT                          17520 non-null  float64\n",
      " 4   ROP                                20297 non-null  float64\n",
      " 5   RDEP                               20956 non-null  float64\n",
      " 6   RSHA                               1623 non-null   float64\n",
      " 7   RMED                               20957 non-null  float64\n",
      " 8   RXO                                1627 non-null   float64\n",
      " 9   SP                                 20956 non-null  float64\n",
      " 10  DTC                                21282 non-null  float64\n",
      " 11  NPHI                               14105 non-null  float64\n",
      " 12  PEF                                16446 non-null  float64\n",
      " 13  GR                                 20900 non-null  float64\n",
      " 14  RHOB                               18345 non-null  float64\n",
      " 15  DRHO                               18345 non-null  float64\n",
      " 16  DEPTH_MD                           20956 non-null  float64\n",
      " 17  X_LOC                              20956 non-null  float64\n",
      " 18  Y_LOC                              20956 non-null  float64\n",
      " 19  Z_LOC                              20956 non-null  float64\n",
      "dtypes: float64(20)\n",
      "memory usage: 3.4 MB\n"
     ]
    }
   ],
   "source": [
    "df1.info()"
   ]
  },
  {
   "cell_type": "code",
   "execution_count": 8,
   "id": "221e52d3",
   "metadata": {},
   "outputs": [
    {
     "name": "stdout",
     "output_type": "stream",
     "text": [
      "<class 'pandas.core.frame.DataFrame'>\n",
      "Index: 14586 entries, 96.975196838 to 2313.8951968\n",
      "Data columns (total 18 columns):\n",
      " #   Column                             Non-Null Count  Dtype  \n",
      "---  ------                             --------------  -----  \n",
      " 0   FORCE_2020_LITHOFACIES_CONFIDENCE  6700 non-null   float64\n",
      " 1   FORCE_2020_LITHOFACIES_LITHOLOGY   6685 non-null   float64\n",
      " 2   CALI                               6709 non-null   float64\n",
      " 3   MUDWEIGHT                          13706 non-null  float64\n",
      " 4   ROP                                14418 non-null  float64\n",
      " 5   RDEP                               11888 non-null  float64\n",
      " 6   RSHA                               11888 non-null  float64\n",
      " 7   RMED                               11887 non-null  float64\n",
      " 8   SP                                 11888 non-null  float64\n",
      " 9   DTC                                13935 non-null  float64\n",
      " 10  NPHI                               4987 non-null   float64\n",
      " 11  GR                                 14540 non-null  float64\n",
      " 12  RHOB                               6709 non-null   float64\n",
      " 13  DRHO                               6712 non-null   float64\n",
      " 14  DEPTH_MD                           11888 non-null  float64\n",
      " 15  X_LOC                              11888 non-null  float64\n",
      " 16  Y_LOC                              11888 non-null  float64\n",
      " 17  Z_LOC                              11888 non-null  float64\n",
      "dtypes: float64(18)\n",
      "memory usage: 2.1 MB\n"
     ]
    }
   ],
   "source": [
    "df2.info()"
   ]
  },
  {
   "cell_type": "code",
   "execution_count": 9,
   "id": "46ccee1b",
   "metadata": {},
   "outputs": [
    {
     "name": "stdout",
     "output_type": "stream",
     "text": [
      "<class 'pandas.core.frame.DataFrame'>\n",
      "Index: 13337 entries, 146.60871887 to 2173.6807189\n",
      "Data columns (total 19 columns):\n",
      " #   Column                             Non-Null Count  Dtype  \n",
      "---  ------                             --------------  -----  \n",
      " 0   FORCE_2020_LITHOFACIES_CONFIDENCE  5059 non-null   float64\n",
      " 1   FORCE_2020_LITHOFACIES_LITHOLOGY   5060 non-null   float64\n",
      " 2   CALI                               11777 non-null  float64\n",
      " 3   BS                                 13266 non-null  float64\n",
      " 4   DCAL                               11777 non-null  float64\n",
      " 5   MUDWEIGHT                          12783 non-null  float64\n",
      " 6   ROP                                12807 non-null  float64\n",
      " 7   RDEP                               11730 non-null  float64\n",
      " 8   RMED                               11731 non-null  float64\n",
      " 9   SP                                 11686 non-null  float64\n",
      " 10  DTC                                10571 non-null  float64\n",
      " 11  NPHI                               6660 non-null   float64\n",
      " 12  GR                                 13279 non-null  float64\n",
      " 13  RHOB                               5159 non-null   float64\n",
      " 14  DRHO                               5157 non-null   float64\n",
      " 15  DEPTH_MD                           11730 non-null  float64\n",
      " 16  X_LOC                              11730 non-null  float64\n",
      " 17  Y_LOC                              11730 non-null  float64\n",
      " 18  Z_LOC                              11730 non-null  float64\n",
      "dtypes: float64(19)\n",
      "memory usage: 2.0 MB\n"
     ]
    }
   ],
   "source": [
    "df3.info()"
   ]
  },
  {
   "cell_type": "code",
   "execution_count": 10,
   "id": "522598d1",
   "metadata": {},
   "outputs": [
    {
     "name": "stdout",
     "output_type": "stream",
     "text": [
      "<class 'pandas.core.frame.DataFrame'>\n",
      "Index: 15388 entries, 138.09972888 to 2476.9237289\n",
      "Data columns (total 20 columns):\n",
      " #   Column                             Non-Null Count  Dtype  \n",
      "---  ------                             --------------  -----  \n",
      " 0   FORCE_2020_LITHOFACIES_CONFIDENCE  12009 non-null  float64\n",
      " 1   FORCE_2020_LITHOFACIES_LITHOLOGY   11994 non-null  float64\n",
      " 2   CALI                               12039 non-null  float64\n",
      " 3   BS                                 15060 non-null  float64\n",
      " 4   MUDWEIGHT                          8230 non-null   float64\n",
      " 5   ROP                                15372 non-null  float64\n",
      " 6   RDEP                               15013 non-null  float64\n",
      " 7   RSHA                               8245 non-null   float64\n",
      " 8   RMED                               14972 non-null  float64\n",
      " 9   RMIC                               8246 non-null   float64\n",
      " 10  SP                                 5020 non-null   float64\n",
      " 11  DTS                                12119 non-null  float64\n",
      " 12  DTC                                12170 non-null  float64\n",
      " 13  NPHI                               8221 non-null   float64\n",
      " 14  GR                                 14894 non-null  float64\n",
      " 15  RHOB                               8247 non-null   float64\n",
      " 16  DEPTH_MD                           15013 non-null  float64\n",
      " 17  X_LOC                              15013 non-null  float64\n",
      " 18  Y_LOC                              15013 non-null  float64\n",
      " 19  Z_LOC                              15013 non-null  float64\n",
      "dtypes: float64(20)\n",
      "memory usage: 2.5 MB\n"
     ]
    }
   ],
   "source": [
    "df4.info()"
   ]
  },
  {
   "cell_type": "code",
   "execution_count": 11,
   "id": "6cd043bc",
   "metadata": {},
   "outputs": [
    {
     "data": {
      "text/plain": [
       "FORCE_2020_LITHOFACIES_CONFIDENCE     3164\n",
       "FORCE_2020_LITHOFACIES_LITHOLOGY      3171\n",
       "CALI                                  3096\n",
       "MUDWEIGHT                             3921\n",
       "ROP                                   1144\n",
       "RDEP                                   485\n",
       "RSHA                                 19818\n",
       "RMED                                   484\n",
       "RXO                                  19814\n",
       "SP                                     485\n",
       "DTC                                    159\n",
       "NPHI                                  7336\n",
       "PEF                                   4995\n",
       "GR                                     541\n",
       "RHOB                                  3096\n",
       "DRHO                                  3096\n",
       "DEPTH_MD                               485\n",
       "X_LOC                                  485\n",
       "Y_LOC                                  485\n",
       "Z_LOC                                  485\n",
       "dtype: int64"
      ]
     },
     "execution_count": 11,
     "metadata": {},
     "output_type": "execute_result"
    }
   ],
   "source": [
    "df1.isna().sum()\n"
   ]
  },
  {
   "cell_type": "code",
   "execution_count": 12,
   "id": "7df73311",
   "metadata": {},
   "outputs": [
    {
     "data": {
      "text/plain": [
       "FORCE_2020_LITHOFACIES_CONFIDENCE    7886\n",
       "FORCE_2020_LITHOFACIES_LITHOLOGY     7901\n",
       "CALI                                 7877\n",
       "MUDWEIGHT                             880\n",
       "ROP                                   168\n",
       "RDEP                                 2698\n",
       "RSHA                                 2698\n",
       "RMED                                 2699\n",
       "SP                                   2698\n",
       "DTC                                   651\n",
       "NPHI                                 9599\n",
       "GR                                     46\n",
       "RHOB                                 7877\n",
       "DRHO                                 7874\n",
       "DEPTH_MD                             2698\n",
       "X_LOC                                2698\n",
       "Y_LOC                                2698\n",
       "Z_LOC                                2698\n",
       "dtype: int64"
      ]
     },
     "execution_count": 12,
     "metadata": {},
     "output_type": "execute_result"
    }
   ],
   "source": [
    "df2.isna().sum()"
   ]
  },
  {
   "cell_type": "code",
   "execution_count": 13,
   "id": "8cc73ad5",
   "metadata": {},
   "outputs": [
    {
     "data": {
      "text/plain": [
       "FORCE_2020_LITHOFACIES_CONFIDENCE    8278\n",
       "FORCE_2020_LITHOFACIES_LITHOLOGY     8277\n",
       "CALI                                 1560\n",
       "BS                                     71\n",
       "DCAL                                 1560\n",
       "MUDWEIGHT                             554\n",
       "ROP                                   530\n",
       "RDEP                                 1607\n",
       "RMED                                 1606\n",
       "SP                                   1651\n",
       "DTC                                  2766\n",
       "NPHI                                 6677\n",
       "GR                                     58\n",
       "RHOB                                 8178\n",
       "DRHO                                 8180\n",
       "DEPTH_MD                             1607\n",
       "X_LOC                                1607\n",
       "Y_LOC                                1607\n",
       "Z_LOC                                1607\n",
       "dtype: int64"
      ]
     },
     "execution_count": 13,
     "metadata": {},
     "output_type": "execute_result"
    }
   ],
   "source": [
    "df3.isna().sum()"
   ]
  },
  {
   "cell_type": "code",
   "execution_count": 14,
   "id": "e87c7a29",
   "metadata": {},
   "outputs": [
    {
     "data": {
      "text/plain": [
       "FORCE_2020_LITHOFACIES_CONFIDENCE     3379\n",
       "FORCE_2020_LITHOFACIES_LITHOLOGY      3394\n",
       "CALI                                  3349\n",
       "BS                                     328\n",
       "MUDWEIGHT                             7158\n",
       "ROP                                     16\n",
       "RDEP                                   375\n",
       "RSHA                                  7143\n",
       "RMED                                   416\n",
       "RMIC                                  7142\n",
       "SP                                   10368\n",
       "DTS                                   3269\n",
       "DTC                                   3218\n",
       "NPHI                                  7167\n",
       "GR                                     494\n",
       "RHOB                                  7141\n",
       "DEPTH_MD                               375\n",
       "X_LOC                                  375\n",
       "Y_LOC                                  375\n",
       "Z_LOC                                  375\n",
       "dtype: int64"
      ]
     },
     "execution_count": 14,
     "metadata": {},
     "output_type": "execute_result"
    }
   ],
   "source": [
    "df4.isna().sum()"
   ]
  },
  {
   "cell_type": "markdown",
   "id": "f9293305",
   "metadata": {},
   "source": [
    "# Drop columns with < 70% entry"
   ]
  },
  {
   "cell_type": "code",
   "execution_count": 15,
   "id": "a33a13b3",
   "metadata": {},
   "outputs": [],
   "source": [
    "df1=df1.drop([\"RSHA\", \"RXO\", \"RHOB\",\"DRHO\"], axis=1)"
   ]
  },
  {
   "cell_type": "code",
   "execution_count": 16,
   "id": "6e44b682",
   "metadata": {},
   "outputs": [],
   "source": [
    "df2=df2.drop([\"FORCE_2020_LITHOFACIES_CONFIDENCE\", \"FORCE_2020_LITHOFACIES_LITHOLOGY\", \"RHOB\", \"DRHO\"], axis=1)"
   ]
  },
  {
   "cell_type": "code",
   "execution_count": 17,
   "id": "cf944ab5",
   "metadata": {},
   "outputs": [],
   "source": [
    "df3=df3.drop([\"FORCE_2020_LITHOFACIES_CONFIDENCE\", \"FORCE_2020_LITHOFACIES_LITHOLOGY\", \"RHOB\", \"DRHO\"], axis=1)"
   ]
  },
  {
   "cell_type": "code",
   "execution_count": 18,
   "id": "dfb1504d",
   "metadata": {},
   "outputs": [],
   "source": [
    "df4=df4.drop([\"RSHA\", \"RMIC\", \"RHOB\"], axis=1)"
   ]
  },
  {
   "cell_type": "code",
   "execution_count": 19,
   "id": "12e57e55",
   "metadata": {},
   "outputs": [
    {
     "name": "stdout",
     "output_type": "stream",
     "text": [
      "<class 'pandas.core.frame.DataFrame'>\n",
      "Index: 21441 entries, 25.0 to 3283.88\n",
      "Data columns (total 16 columns):\n",
      " #   Column                             Non-Null Count  Dtype  \n",
      "---  ------                             --------------  -----  \n",
      " 0   FORCE_2020_LITHOFACIES_CONFIDENCE  18277 non-null  float64\n",
      " 1   FORCE_2020_LITHOFACIES_LITHOLOGY   18270 non-null  float64\n",
      " 2   CALI                               18345 non-null  float64\n",
      " 3   MUDWEIGHT                          17520 non-null  float64\n",
      " 4   ROP                                20297 non-null  float64\n",
      " 5   RDEP                               20956 non-null  float64\n",
      " 6   RMED                               20957 non-null  float64\n",
      " 7   SP                                 20956 non-null  float64\n",
      " 8   DTC                                21282 non-null  float64\n",
      " 9   NPHI                               14105 non-null  float64\n",
      " 10  PEF                                16446 non-null  float64\n",
      " 11  GR                                 20900 non-null  float64\n",
      " 12  DEPTH_MD                           20956 non-null  float64\n",
      " 13  X_LOC                              20956 non-null  float64\n",
      " 14  Y_LOC                              20956 non-null  float64\n",
      " 15  Z_LOC                              20956 non-null  float64\n",
      "dtypes: float64(16)\n",
      "memory usage: 2.8 MB\n"
     ]
    }
   ],
   "source": [
    "df1.info()"
   ]
  },
  {
   "cell_type": "code",
   "execution_count": 20,
   "id": "3c111d86",
   "metadata": {},
   "outputs": [
    {
     "name": "stdout",
     "output_type": "stream",
     "text": [
      "<class 'pandas.core.frame.DataFrame'>\n",
      "Index: 14586 entries, 96.975196838 to 2313.8951968\n",
      "Data columns (total 14 columns):\n",
      " #   Column     Non-Null Count  Dtype  \n",
      "---  ------     --------------  -----  \n",
      " 0   CALI       6709 non-null   float64\n",
      " 1   MUDWEIGHT  13706 non-null  float64\n",
      " 2   ROP        14418 non-null  float64\n",
      " 3   RDEP       11888 non-null  float64\n",
      " 4   RSHA       11888 non-null  float64\n",
      " 5   RMED       11887 non-null  float64\n",
      " 6   SP         11888 non-null  float64\n",
      " 7   DTC        13935 non-null  float64\n",
      " 8   NPHI       4987 non-null   float64\n",
      " 9   GR         14540 non-null  float64\n",
      " 10  DEPTH_MD   11888 non-null  float64\n",
      " 11  X_LOC      11888 non-null  float64\n",
      " 12  Y_LOC      11888 non-null  float64\n",
      " 13  Z_LOC      11888 non-null  float64\n",
      "dtypes: float64(14)\n",
      "memory usage: 1.7 MB\n"
     ]
    }
   ],
   "source": [
    "df2.info()"
   ]
  },
  {
   "cell_type": "code",
   "execution_count": 21,
   "id": "60be7cab",
   "metadata": {},
   "outputs": [
    {
     "name": "stdout",
     "output_type": "stream",
     "text": [
      "<class 'pandas.core.frame.DataFrame'>\n",
      "Index: 13337 entries, 146.60871887 to 2173.6807189\n",
      "Data columns (total 15 columns):\n",
      " #   Column     Non-Null Count  Dtype  \n",
      "---  ------     --------------  -----  \n",
      " 0   CALI       11777 non-null  float64\n",
      " 1   BS         13266 non-null  float64\n",
      " 2   DCAL       11777 non-null  float64\n",
      " 3   MUDWEIGHT  12783 non-null  float64\n",
      " 4   ROP        12807 non-null  float64\n",
      " 5   RDEP       11730 non-null  float64\n",
      " 6   RMED       11731 non-null  float64\n",
      " 7   SP         11686 non-null  float64\n",
      " 8   DTC        10571 non-null  float64\n",
      " 9   NPHI       6660 non-null   float64\n",
      " 10  GR         13279 non-null  float64\n",
      " 11  DEPTH_MD   11730 non-null  float64\n",
      " 12  X_LOC      11730 non-null  float64\n",
      " 13  Y_LOC      11730 non-null  float64\n",
      " 14  Z_LOC      11730 non-null  float64\n",
      "dtypes: float64(15)\n",
      "memory usage: 1.6 MB\n"
     ]
    }
   ],
   "source": [
    "df3.info()"
   ]
  },
  {
   "cell_type": "code",
   "execution_count": 22,
   "id": "4f298476",
   "metadata": {},
   "outputs": [
    {
     "name": "stdout",
     "output_type": "stream",
     "text": [
      "<class 'pandas.core.frame.DataFrame'>\n",
      "Index: 15388 entries, 138.09972888 to 2476.9237289\n",
      "Data columns (total 17 columns):\n",
      " #   Column                             Non-Null Count  Dtype  \n",
      "---  ------                             --------------  -----  \n",
      " 0   FORCE_2020_LITHOFACIES_CONFIDENCE  12009 non-null  float64\n",
      " 1   FORCE_2020_LITHOFACIES_LITHOLOGY   11994 non-null  float64\n",
      " 2   CALI                               12039 non-null  float64\n",
      " 3   BS                                 15060 non-null  float64\n",
      " 4   MUDWEIGHT                          8230 non-null   float64\n",
      " 5   ROP                                15372 non-null  float64\n",
      " 6   RDEP                               15013 non-null  float64\n",
      " 7   RMED                               14972 non-null  float64\n",
      " 8   SP                                 5020 non-null   float64\n",
      " 9   DTS                                12119 non-null  float64\n",
      " 10  DTC                                12170 non-null  float64\n",
      " 11  NPHI                               8221 non-null   float64\n",
      " 12  GR                                 14894 non-null  float64\n",
      " 13  DEPTH_MD                           15013 non-null  float64\n",
      " 14  X_LOC                              15013 non-null  float64\n",
      " 15  Y_LOC                              15013 non-null  float64\n",
      " 16  Z_LOC                              15013 non-null  float64\n",
      "dtypes: float64(17)\n",
      "memory usage: 2.1 MB\n"
     ]
    }
   ],
   "source": [
    "df4.info()"
   ]
  },
  {
   "cell_type": "markdown",
   "id": "e541c08e",
   "metadata": {},
   "source": [
    "# Drop column that's not mutual with all data set"
   ]
  },
  {
   "cell_type": "code",
   "execution_count": 23,
   "id": "4bc06292",
   "metadata": {},
   "outputs": [],
   "source": [
    "df1 = df1.drop([\"FORCE_2020_LITHOFACIES_CONFIDENCE\", \"FORCE_2020_LITHOFACIES_LITHOLOGY\", \"PEF\",\"MUDWEIGHT\", \"SP\"], axis=1)\n",
    "df2 = df2.drop([\"RSHA\",\"MUDWEIGHT\", \"SP\"], axis=1)\n",
    "df3 = df3.drop([\"BS\", \"DCAL\",\"MUDWEIGHT\", \"SP\"], axis=1)\n",
    "df4 = df4.drop([\"FORCE_2020_LITHOFACIES_CONFIDENCE\", \"FORCE_2020_LITHOFACIES_LITHOLOGY\", \"BS\", \"DTS\",\"MUDWEIGHT\", \"SP\"], axis=1)"
   ]
  },
  {
   "cell_type": "code",
   "execution_count": 24,
   "id": "e796d62c",
   "metadata": {},
   "outputs": [
    {
     "name": "stdout",
     "output_type": "stream",
     "text": [
      "<class 'pandas.core.frame.DataFrame'>\n",
      "Index: 21441 entries, 25.0 to 3283.88\n",
      "Data columns (total 11 columns):\n",
      " #   Column    Non-Null Count  Dtype  \n",
      "---  ------    --------------  -----  \n",
      " 0   CALI      18345 non-null  float64\n",
      " 1   ROP       20297 non-null  float64\n",
      " 2   RDEP      20956 non-null  float64\n",
      " 3   RMED      20957 non-null  float64\n",
      " 4   DTC       21282 non-null  float64\n",
      " 5   NPHI      14105 non-null  float64\n",
      " 6   GR        20900 non-null  float64\n",
      " 7   DEPTH_MD  20956 non-null  float64\n",
      " 8   X_LOC     20956 non-null  float64\n",
      " 9   Y_LOC     20956 non-null  float64\n",
      " 10  Z_LOC     20956 non-null  float64\n",
      "dtypes: float64(11)\n",
      "memory usage: 2.0 MB\n"
     ]
    }
   ],
   "source": [
    "df1.info()"
   ]
  },
  {
   "cell_type": "code",
   "execution_count": 25,
   "id": "11f281c4",
   "metadata": {},
   "outputs": [
    {
     "name": "stdout",
     "output_type": "stream",
     "text": [
      "<class 'pandas.core.frame.DataFrame'>\n",
      "Index: 14586 entries, 96.975196838 to 2313.8951968\n",
      "Data columns (total 11 columns):\n",
      " #   Column    Non-Null Count  Dtype  \n",
      "---  ------    --------------  -----  \n",
      " 0   CALI      6709 non-null   float64\n",
      " 1   ROP       14418 non-null  float64\n",
      " 2   RDEP      11888 non-null  float64\n",
      " 3   RMED      11887 non-null  float64\n",
      " 4   DTC       13935 non-null  float64\n",
      " 5   NPHI      4987 non-null   float64\n",
      " 6   GR        14540 non-null  float64\n",
      " 7   DEPTH_MD  11888 non-null  float64\n",
      " 8   X_LOC     11888 non-null  float64\n",
      " 9   Y_LOC     11888 non-null  float64\n",
      " 10  Z_LOC     11888 non-null  float64\n",
      "dtypes: float64(11)\n",
      "memory usage: 1.3 MB\n"
     ]
    }
   ],
   "source": [
    "df2.info()"
   ]
  },
  {
   "cell_type": "code",
   "execution_count": 26,
   "id": "e5e9d24f",
   "metadata": {},
   "outputs": [
    {
     "name": "stdout",
     "output_type": "stream",
     "text": [
      "<class 'pandas.core.frame.DataFrame'>\n",
      "Index: 13337 entries, 146.60871887 to 2173.6807189\n",
      "Data columns (total 11 columns):\n",
      " #   Column    Non-Null Count  Dtype  \n",
      "---  ------    --------------  -----  \n",
      " 0   CALI      11777 non-null  float64\n",
      " 1   ROP       12807 non-null  float64\n",
      " 2   RDEP      11730 non-null  float64\n",
      " 3   RMED      11731 non-null  float64\n",
      " 4   DTC       10571 non-null  float64\n",
      " 5   NPHI      6660 non-null   float64\n",
      " 6   GR        13279 non-null  float64\n",
      " 7   DEPTH_MD  11730 non-null  float64\n",
      " 8   X_LOC     11730 non-null  float64\n",
      " 9   Y_LOC     11730 non-null  float64\n",
      " 10  Z_LOC     11730 non-null  float64\n",
      "dtypes: float64(11)\n",
      "memory usage: 1.2 MB\n"
     ]
    }
   ],
   "source": [
    "df3.info()"
   ]
  },
  {
   "cell_type": "code",
   "execution_count": 27,
   "id": "31ffcc66",
   "metadata": {},
   "outputs": [
    {
     "name": "stdout",
     "output_type": "stream",
     "text": [
      "<class 'pandas.core.frame.DataFrame'>\n",
      "Index: 15388 entries, 138.09972888 to 2476.9237289\n",
      "Data columns (total 11 columns):\n",
      " #   Column    Non-Null Count  Dtype  \n",
      "---  ------    --------------  -----  \n",
      " 0   CALI      12039 non-null  float64\n",
      " 1   ROP       15372 non-null  float64\n",
      " 2   RDEP      15013 non-null  float64\n",
      " 3   RMED      14972 non-null  float64\n",
      " 4   DTC       12170 non-null  float64\n",
      " 5   NPHI      8221 non-null   float64\n",
      " 6   GR        14894 non-null  float64\n",
      " 7   DEPTH_MD  15013 non-null  float64\n",
      " 8   X_LOC     15013 non-null  float64\n",
      " 9   Y_LOC     15013 non-null  float64\n",
      " 10  Z_LOC     15013 non-null  float64\n",
      "dtypes: float64(11)\n",
      "memory usage: 1.4 MB\n"
     ]
    }
   ],
   "source": [
    "df4.info()"
   ]
  },
  {
   "cell_type": "code",
   "execution_count": 28,
   "id": "8694b753",
   "metadata": {},
   "outputs": [
    {
     "data": {
      "text/plain": [
       "(21441, 11)"
      ]
     },
     "metadata": {},
     "output_type": "display_data"
    },
    {
     "data": {
      "text/plain": [
       "(14586, 11)"
      ]
     },
     "metadata": {},
     "output_type": "display_data"
    },
    {
     "data": {
      "text/plain": [
       "(13337, 11)"
      ]
     },
     "metadata": {},
     "output_type": "display_data"
    },
    {
     "data": {
      "text/plain": [
       "(15388, 11)"
      ]
     },
     "metadata": {},
     "output_type": "display_data"
    }
   ],
   "source": [
    "display(df1.shape, df2.shape, df3.shape, df4.shape)"
   ]
  },
  {
   "cell_type": "code",
   "execution_count": 29,
   "id": "0d28d6b1",
   "metadata": {},
   "outputs": [
    {
     "data": {
      "text/plain": [
       "(64752, 11)"
      ]
     },
     "execution_count": 29,
     "metadata": {},
     "output_type": "execute_result"
    }
   ],
   "source": [
    "joint_df=pd.concat([df1,df2,df3,df4])\n",
    "joint_df.shape"
   ]
  },
  {
   "cell_type": "code",
   "execution_count": 30,
   "id": "ee5edcb4",
   "metadata": {},
   "outputs": [
    {
     "name": "stdout",
     "output_type": "stream",
     "text": [
      "<class 'pandas.core.frame.DataFrame'>\n",
      "Index: 64752 entries, 25.0 to 2476.9237289\n",
      "Data columns (total 11 columns):\n",
      " #   Column    Non-Null Count  Dtype  \n",
      "---  ------    --------------  -----  \n",
      " 0   CALI      48870 non-null  float64\n",
      " 1   ROP       62894 non-null  float64\n",
      " 2   RDEP      59587 non-null  float64\n",
      " 3   RMED      59547 non-null  float64\n",
      " 4   DTC       57958 non-null  float64\n",
      " 5   NPHI      33973 non-null  float64\n",
      " 6   GR        63613 non-null  float64\n",
      " 7   DEPTH_MD  59587 non-null  float64\n",
      " 8   X_LOC     59587 non-null  float64\n",
      " 9   Y_LOC     59587 non-null  float64\n",
      " 10  Z_LOC     59587 non-null  float64\n",
      "dtypes: float64(11)\n",
      "memory usage: 5.9 MB\n"
     ]
    }
   ],
   "source": [
    "joint_df.info()"
   ]
  },
  {
   "cell_type": "code",
   "execution_count": 31,
   "id": "4fc3b654",
   "metadata": {},
   "outputs": [
    {
     "data": {
      "text/html": [
       "<div>\n",
       "<style scoped>\n",
       "    .dataframe tbody tr th:only-of-type {\n",
       "        vertical-align: middle;\n",
       "    }\n",
       "\n",
       "    .dataframe tbody tr th {\n",
       "        vertical-align: top;\n",
       "    }\n",
       "\n",
       "    .dataframe thead th {\n",
       "        text-align: right;\n",
       "    }\n",
       "</style>\n",
       "<table border=\"1\" class=\"dataframe\">\n",
       "  <thead>\n",
       "    <tr style=\"text-align: right;\">\n",
       "      <th></th>\n",
       "      <th>CALI</th>\n",
       "      <th>ROP</th>\n",
       "      <th>RDEP</th>\n",
       "      <th>RMED</th>\n",
       "      <th>DTC</th>\n",
       "      <th>NPHI</th>\n",
       "      <th>GR</th>\n",
       "      <th>DEPTH_MD</th>\n",
       "      <th>X_LOC</th>\n",
       "      <th>Y_LOC</th>\n",
       "      <th>Z_LOC</th>\n",
       "    </tr>\n",
       "  </thead>\n",
       "  <tbody>\n",
       "    <tr>\n",
       "      <th>count</th>\n",
       "      <td>48870.000000</td>\n",
       "      <td>62894.000000</td>\n",
       "      <td>59587.000000</td>\n",
       "      <td>59547.000000</td>\n",
       "      <td>57958.000000</td>\n",
       "      <td>33973.000000</td>\n",
       "      <td>63613.000000</td>\n",
       "      <td>59587.000000</td>\n",
       "      <td>59587.000000</td>\n",
       "      <td>5.958700e+04</td>\n",
       "      <td>59587.000000</td>\n",
       "    </tr>\n",
       "    <tr>\n",
       "      <th>mean</th>\n",
       "      <td>12.788625</td>\n",
       "      <td>54.393476</td>\n",
       "      <td>1.517735</td>\n",
       "      <td>1.426824</td>\n",
       "      <td>135.579075</td>\n",
       "      <td>0.435766</td>\n",
       "      <td>59.023666</td>\n",
       "      <td>1463.878902</td>\n",
       "      <td>463239.391666</td>\n",
       "      <td>6.527961e+06</td>\n",
       "      <td>-1438.956239</td>\n",
       "    </tr>\n",
       "    <tr>\n",
       "      <th>std</th>\n",
       "      <td>3.585482</td>\n",
       "      <td>87.445839</td>\n",
       "      <td>2.061031</td>\n",
       "      <td>1.914200</td>\n",
       "      <td>27.794104</td>\n",
       "      <td>0.136695</td>\n",
       "      <td>26.662202</td>\n",
       "      <td>736.781811</td>\n",
       "      <td>22338.931773</td>\n",
       "      <td>6.243687e+04</td>\n",
       "      <td>736.529411</td>\n",
       "    </tr>\n",
       "    <tr>\n",
       "      <th>min</th>\n",
       "      <td>7.073111</td>\n",
       "      <td>0.138586</td>\n",
       "      <td>0.202688</td>\n",
       "      <td>0.116862</td>\n",
       "      <td>50.758595</td>\n",
       "      <td>-0.032620</td>\n",
       "      <td>0.624403</td>\n",
       "      <td>98.720001</td>\n",
       "      <td>437592.906250</td>\n",
       "      <td>6.470972e+06</td>\n",
       "      <td>-3257.997803</td>\n",
       "    </tr>\n",
       "    <tr>\n",
       "      <th>25%</th>\n",
       "      <td>9.413469</td>\n",
       "      <td>7.321400</td>\n",
       "      <td>0.772081</td>\n",
       "      <td>0.767704</td>\n",
       "      <td>121.810505</td>\n",
       "      <td>0.339636</td>\n",
       "      <td>39.822582</td>\n",
       "      <td>862.483612</td>\n",
       "      <td>437640.843750</td>\n",
       "      <td>6.470982e+06</td>\n",
       "      <td>-1969.635498</td>\n",
       "    </tr>\n",
       "    <tr>\n",
       "      <th>50%</th>\n",
       "      <td>12.593809</td>\n",
       "      <td>31.279211</td>\n",
       "      <td>1.154419</td>\n",
       "      <td>1.121041</td>\n",
       "      <td>142.874123</td>\n",
       "      <td>0.451603</td>\n",
       "      <td>59.197601</td>\n",
       "      <td>1428.567993</td>\n",
       "      <td>463756.000000</td>\n",
       "      <td>6.479872e+06</td>\n",
       "      <td>-1403.708740</td>\n",
       "    </tr>\n",
       "    <tr>\n",
       "      <th>75%</th>\n",
       "      <td>14.212363</td>\n",
       "      <td>53.346992</td>\n",
       "      <td>1.665462</td>\n",
       "      <td>1.553793</td>\n",
       "      <td>151.725235</td>\n",
       "      <td>0.524652</td>\n",
       "      <td>75.684013</td>\n",
       "      <td>1994.620361</td>\n",
       "      <td>495696.468750</td>\n",
       "      <td>6.618248e+06</td>\n",
       "      <td>-837.791046</td>\n",
       "    </tr>\n",
       "    <tr>\n",
       "      <th>max</th>\n",
       "      <td>23.329569</td>\n",
       "      <td>1083.425415</td>\n",
       "      <td>168.014252</td>\n",
       "      <td>142.606338</td>\n",
       "      <td>206.225693</td>\n",
       "      <td>0.993175</td>\n",
       "      <td>499.022583</td>\n",
       "      <td>3283.879883</td>\n",
       "      <td>495739.343750</td>\n",
       "      <td>6.618270e+06</td>\n",
       "      <td>-73.719467</td>\n",
       "    </tr>\n",
       "  </tbody>\n",
       "</table>\n",
       "</div>"
      ],
      "text/plain": [
       "               CALI           ROP          RDEP          RMED           DTC  \\\n",
       "count  48870.000000  62894.000000  59587.000000  59547.000000  57958.000000   \n",
       "mean      12.788625     54.393476      1.517735      1.426824    135.579075   \n",
       "std        3.585482     87.445839      2.061031      1.914200     27.794104   \n",
       "min        7.073111      0.138586      0.202688      0.116862     50.758595   \n",
       "25%        9.413469      7.321400      0.772081      0.767704    121.810505   \n",
       "50%       12.593809     31.279211      1.154419      1.121041    142.874123   \n",
       "75%       14.212363     53.346992      1.665462      1.553793    151.725235   \n",
       "max       23.329569   1083.425415    168.014252    142.606338    206.225693   \n",
       "\n",
       "               NPHI            GR      DEPTH_MD          X_LOC         Y_LOC  \\\n",
       "count  33973.000000  63613.000000  59587.000000   59587.000000  5.958700e+04   \n",
       "mean       0.435766     59.023666   1463.878902  463239.391666  6.527961e+06   \n",
       "std        0.136695     26.662202    736.781811   22338.931773  6.243687e+04   \n",
       "min       -0.032620      0.624403     98.720001  437592.906250  6.470972e+06   \n",
       "25%        0.339636     39.822582    862.483612  437640.843750  6.470982e+06   \n",
       "50%        0.451603     59.197601   1428.567993  463756.000000  6.479872e+06   \n",
       "75%        0.524652     75.684013   1994.620361  495696.468750  6.618248e+06   \n",
       "max        0.993175    499.022583   3283.879883  495739.343750  6.618270e+06   \n",
       "\n",
       "              Z_LOC  \n",
       "count  59587.000000  \n",
       "mean   -1438.956239  \n",
       "std      736.529411  \n",
       "min    -3257.997803  \n",
       "25%    -1969.635498  \n",
       "50%    -1403.708740  \n",
       "75%     -837.791046  \n",
       "max      -73.719467  "
      ]
     },
     "execution_count": 31,
     "metadata": {},
     "output_type": "execute_result"
    }
   ],
   "source": [
    "joint_df.describe()"
   ]
  },
  {
   "cell_type": "code",
   "execution_count": 32,
   "id": "0dc77cc3",
   "metadata": {},
   "outputs": [
    {
     "data": {
      "text/plain": [
       "CALI        15882\n",
       "ROP          1858\n",
       "RDEP         5165\n",
       "RMED         5205\n",
       "DTC          6794\n",
       "NPHI        30779\n",
       "GR           1139\n",
       "DEPTH_MD     5165\n",
       "X_LOC        5165\n",
       "Y_LOC        5165\n",
       "Z_LOC        5165\n",
       "dtype: int64"
      ]
     },
     "execution_count": 32,
     "metadata": {},
     "output_type": "execute_result"
    }
   ],
   "source": [
    "joint_df.isna().sum()"
   ]
  },
  {
   "cell_type": "code",
   "execution_count": 33,
   "id": "852dce52",
   "metadata": {},
   "outputs": [
    {
     "data": {
      "text/html": [
       "<div>\n",
       "<style scoped>\n",
       "    .dataframe tbody tr th:only-of-type {\n",
       "        vertical-align: middle;\n",
       "    }\n",
       "\n",
       "    .dataframe tbody tr th {\n",
       "        vertical-align: top;\n",
       "    }\n",
       "\n",
       "    .dataframe thead th {\n",
       "        text-align: right;\n",
       "    }\n",
       "</style>\n",
       "<table border=\"1\" class=\"dataframe\">\n",
       "  <thead>\n",
       "    <tr style=\"text-align: right;\">\n",
       "      <th></th>\n",
       "      <th>CALI</th>\n",
       "      <th>ROP</th>\n",
       "      <th>RDEP</th>\n",
       "      <th>RMED</th>\n",
       "      <th>DTC</th>\n",
       "      <th>NPHI</th>\n",
       "      <th>GR</th>\n",
       "      <th>DEPTH_MD</th>\n",
       "      <th>X_LOC</th>\n",
       "      <th>Y_LOC</th>\n",
       "      <th>Z_LOC</th>\n",
       "    </tr>\n",
       "    <tr>\n",
       "      <th>DEPT</th>\n",
       "      <th></th>\n",
       "      <th></th>\n",
       "      <th></th>\n",
       "      <th></th>\n",
       "      <th></th>\n",
       "      <th></th>\n",
       "      <th></th>\n",
       "      <th></th>\n",
       "      <th></th>\n",
       "      <th></th>\n",
       "      <th></th>\n",
       "    </tr>\n",
       "  </thead>\n",
       "  <tbody>\n",
       "    <tr>\n",
       "      <th>25.000</th>\n",
       "      <td>NaN</td>\n",
       "      <td>NaN</td>\n",
       "      <td>NaN</td>\n",
       "      <td>NaN</td>\n",
       "      <td>206.224609</td>\n",
       "      <td>NaN</td>\n",
       "      <td>NaN</td>\n",
       "      <td>NaN</td>\n",
       "      <td>NaN</td>\n",
       "      <td>NaN</td>\n",
       "      <td>NaN</td>\n",
       "    </tr>\n",
       "    <tr>\n",
       "      <th>25.152</th>\n",
       "      <td>NaN</td>\n",
       "      <td>NaN</td>\n",
       "      <td>NaN</td>\n",
       "      <td>NaN</td>\n",
       "      <td>206.224625</td>\n",
       "      <td>NaN</td>\n",
       "      <td>NaN</td>\n",
       "      <td>NaN</td>\n",
       "      <td>NaN</td>\n",
       "      <td>NaN</td>\n",
       "      <td>NaN</td>\n",
       "    </tr>\n",
       "    <tr>\n",
       "      <th>25.304</th>\n",
       "      <td>NaN</td>\n",
       "      <td>NaN</td>\n",
       "      <td>NaN</td>\n",
       "      <td>NaN</td>\n",
       "      <td>206.224655</td>\n",
       "      <td>NaN</td>\n",
       "      <td>NaN</td>\n",
       "      <td>NaN</td>\n",
       "      <td>NaN</td>\n",
       "      <td>NaN</td>\n",
       "      <td>NaN</td>\n",
       "    </tr>\n",
       "    <tr>\n",
       "      <th>25.456</th>\n",
       "      <td>NaN</td>\n",
       "      <td>NaN</td>\n",
       "      <td>NaN</td>\n",
       "      <td>NaN</td>\n",
       "      <td>206.224670</td>\n",
       "      <td>NaN</td>\n",
       "      <td>NaN</td>\n",
       "      <td>NaN</td>\n",
       "      <td>NaN</td>\n",
       "      <td>NaN</td>\n",
       "      <td>NaN</td>\n",
       "    </tr>\n",
       "    <tr>\n",
       "      <th>25.608</th>\n",
       "      <td>NaN</td>\n",
       "      <td>NaN</td>\n",
       "      <td>NaN</td>\n",
       "      <td>NaN</td>\n",
       "      <td>206.224701</td>\n",
       "      <td>NaN</td>\n",
       "      <td>NaN</td>\n",
       "      <td>NaN</td>\n",
       "      <td>NaN</td>\n",
       "      <td>NaN</td>\n",
       "      <td>NaN</td>\n",
       "    </tr>\n",
       "  </tbody>\n",
       "</table>\n",
       "</div>"
      ],
      "text/plain": [
       "        CALI  ROP  RDEP  RMED         DTC  NPHI  GR  DEPTH_MD  X_LOC  Y_LOC  \\\n",
       "DEPT                                                                          \n",
       "25.000   NaN  NaN   NaN   NaN  206.224609   NaN NaN       NaN    NaN    NaN   \n",
       "25.152   NaN  NaN   NaN   NaN  206.224625   NaN NaN       NaN    NaN    NaN   \n",
       "25.304   NaN  NaN   NaN   NaN  206.224655   NaN NaN       NaN    NaN    NaN   \n",
       "25.456   NaN  NaN   NaN   NaN  206.224670   NaN NaN       NaN    NaN    NaN   \n",
       "25.608   NaN  NaN   NaN   NaN  206.224701   NaN NaN       NaN    NaN    NaN   \n",
       "\n",
       "        Z_LOC  \n",
       "DEPT           \n",
       "25.000    NaN  \n",
       "25.152    NaN  \n",
       "25.304    NaN  \n",
       "25.456    NaN  \n",
       "25.608    NaN  "
      ]
     },
     "execution_count": 33,
     "metadata": {},
     "output_type": "execute_result"
    }
   ],
   "source": [
    "joint_df.head()"
   ]
  },
  {
   "cell_type": "code",
   "execution_count": 34,
   "id": "499b648f",
   "metadata": {},
   "outputs": [
    {
     "data": {
      "text/plain": [
       "CALI        14892\n",
       "ROP          1227\n",
       "RDEP         4304\n",
       "RMED         4344\n",
       "DTC          6255\n",
       "NPHI        29746\n",
       "GR              0\n",
       "DEPTH_MD     4304\n",
       "X_LOC        4304\n",
       "Y_LOC        4304\n",
       "Z_LOC        4304\n",
       "dtype: int64"
      ]
     },
     "execution_count": 34,
     "metadata": {},
     "output_type": "execute_result"
    }
   ],
   "source": [
    "joint_df[\"GR\"]= joint_df.GR\n",
    "joint_df = joint_df.dropna(subset=['GR'])\n",
    "joint_df.isna().sum()"
   ]
  },
  {
   "cell_type": "code",
   "execution_count": 35,
   "id": "7b6a93cc",
   "metadata": {},
   "outputs": [
    {
     "data": {
      "text/plain": [
       "(63613, 11)"
      ]
     },
     "execution_count": 35,
     "metadata": {},
     "output_type": "execute_result"
    }
   ],
   "source": [
    "joint_df.shape"
   ]
  },
  {
   "cell_type": "code",
   "execution_count": 36,
   "id": "cbbbc59c",
   "metadata": {},
   "outputs": [
    {
     "data": {
      "text/html": [
       "<style>#sk-container-id-1 {color: black;}#sk-container-id-1 pre{padding: 0;}#sk-container-id-1 div.sk-toggleable {background-color: white;}#sk-container-id-1 label.sk-toggleable__label {cursor: pointer;display: block;width: 100%;margin-bottom: 0;padding: 0.3em;box-sizing: border-box;text-align: center;}#sk-container-id-1 label.sk-toggleable__label-arrow:before {content: \"▸\";float: left;margin-right: 0.25em;color: #696969;}#sk-container-id-1 label.sk-toggleable__label-arrow:hover:before {color: black;}#sk-container-id-1 div.sk-estimator:hover label.sk-toggleable__label-arrow:before {color: black;}#sk-container-id-1 div.sk-toggleable__content {max-height: 0;max-width: 0;overflow: hidden;text-align: left;background-color: #f0f8ff;}#sk-container-id-1 div.sk-toggleable__content pre {margin: 0.2em;color: black;border-radius: 0.25em;background-color: #f0f8ff;}#sk-container-id-1 input.sk-toggleable__control:checked~div.sk-toggleable__content {max-height: 200px;max-width: 100%;overflow: auto;}#sk-container-id-1 input.sk-toggleable__control:checked~label.sk-toggleable__label-arrow:before {content: \"▾\";}#sk-container-id-1 div.sk-estimator input.sk-toggleable__control:checked~label.sk-toggleable__label {background-color: #d4ebff;}#sk-container-id-1 div.sk-label input.sk-toggleable__control:checked~label.sk-toggleable__label {background-color: #d4ebff;}#sk-container-id-1 input.sk-hidden--visually {border: 0;clip: rect(1px 1px 1px 1px);clip: rect(1px, 1px, 1px, 1px);height: 1px;margin: -1px;overflow: hidden;padding: 0;position: absolute;width: 1px;}#sk-container-id-1 div.sk-estimator {font-family: monospace;background-color: #f0f8ff;border: 1px dotted black;border-radius: 0.25em;box-sizing: border-box;margin-bottom: 0.5em;}#sk-container-id-1 div.sk-estimator:hover {background-color: #d4ebff;}#sk-container-id-1 div.sk-parallel-item::after {content: \"\";width: 100%;border-bottom: 1px solid gray;flex-grow: 1;}#sk-container-id-1 div.sk-label:hover label.sk-toggleable__label {background-color: #d4ebff;}#sk-container-id-1 div.sk-serial::before {content: \"\";position: absolute;border-left: 1px solid gray;box-sizing: border-box;top: 0;bottom: 0;left: 50%;z-index: 0;}#sk-container-id-1 div.sk-serial {display: flex;flex-direction: column;align-items: center;background-color: white;padding-right: 0.2em;padding-left: 0.2em;position: relative;}#sk-container-id-1 div.sk-item {position: relative;z-index: 1;}#sk-container-id-1 div.sk-parallel {display: flex;align-items: stretch;justify-content: center;background-color: white;position: relative;}#sk-container-id-1 div.sk-item::before, #sk-container-id-1 div.sk-parallel-item::before {content: \"\";position: absolute;border-left: 1px solid gray;box-sizing: border-box;top: 0;bottom: 0;left: 50%;z-index: -1;}#sk-container-id-1 div.sk-parallel-item {display: flex;flex-direction: column;z-index: 1;position: relative;background-color: white;}#sk-container-id-1 div.sk-parallel-item:first-child::after {align-self: flex-end;width: 50%;}#sk-container-id-1 div.sk-parallel-item:last-child::after {align-self: flex-start;width: 50%;}#sk-container-id-1 div.sk-parallel-item:only-child::after {width: 0;}#sk-container-id-1 div.sk-dashed-wrapped {border: 1px dashed gray;margin: 0 0.4em 0.5em 0.4em;box-sizing: border-box;padding-bottom: 0.4em;background-color: white;}#sk-container-id-1 div.sk-label label {font-family: monospace;font-weight: bold;display: inline-block;line-height: 1.2em;}#sk-container-id-1 div.sk-label-container {text-align: center;}#sk-container-id-1 div.sk-container {/* jupyter's `normalize.less` sets `[hidden] { display: none; }` but bootstrap.min.css set `[hidden] { display: none !important; }` so we also need the `!important` here to be able to override the default hidden behavior on the sphinx rendered scikit-learn.org. See: https://github.com/scikit-learn/scikit-learn/issues/21755 */display: inline-block !important;position: relative;}#sk-container-id-1 div.sk-text-repr-fallback {display: none;}</style><div id=\"sk-container-id-1\" class=\"sk-top-container\"><div class=\"sk-text-repr-fallback\"><pre>XGBRegressor(base_score=None, booster=None, callbacks=None,\n",
       "             colsample_bylevel=None, colsample_bynode=None,\n",
       "             colsample_bytree=None, device=None, early_stopping_rounds=None,\n",
       "             enable_categorical=False, eval_metric=None, feature_types=None,\n",
       "             gamma=None, grow_policy=None, importance_type=None,\n",
       "             interaction_constraints=None, learning_rate=None, max_bin=None,\n",
       "             max_cat_threshold=None, max_cat_to_onehot=None,\n",
       "             max_delta_step=None, max_depth=None, max_leaves=None,\n",
       "             min_child_weight=None, missing=nan, monotone_constraints=None,\n",
       "             multi_strategy=None, n_estimators=None, n_jobs=None,\n",
       "             num_parallel_tree=None, random_state=None, ...)</pre><b>In a Jupyter environment, please rerun this cell to show the HTML representation or trust the notebook. <br />On GitHub, the HTML representation is unable to render, please try loading this page with nbviewer.org.</b></div><div class=\"sk-container\" hidden><div class=\"sk-item\"><div class=\"sk-estimator sk-toggleable\"><input class=\"sk-toggleable__control sk-hidden--visually\" id=\"sk-estimator-id-1\" type=\"checkbox\" checked><label for=\"sk-estimator-id-1\" class=\"sk-toggleable__label sk-toggleable__label-arrow\">XGBRegressor</label><div class=\"sk-toggleable__content\"><pre>XGBRegressor(base_score=None, booster=None, callbacks=None,\n",
       "             colsample_bylevel=None, colsample_bynode=None,\n",
       "             colsample_bytree=None, device=None, early_stopping_rounds=None,\n",
       "             enable_categorical=False, eval_metric=None, feature_types=None,\n",
       "             gamma=None, grow_policy=None, importance_type=None,\n",
       "             interaction_constraints=None, learning_rate=None, max_bin=None,\n",
       "             max_cat_threshold=None, max_cat_to_onehot=None,\n",
       "             max_delta_step=None, max_depth=None, max_leaves=None,\n",
       "             min_child_weight=None, missing=nan, monotone_constraints=None,\n",
       "             multi_strategy=None, n_estimators=None, n_jobs=None,\n",
       "             num_parallel_tree=None, random_state=None, ...)</pre></div></div></div></div></div>"
      ],
      "text/plain": [
       "XGBRegressor(base_score=None, booster=None, callbacks=None,\n",
       "             colsample_bylevel=None, colsample_bynode=None,\n",
       "             colsample_bytree=None, device=None, early_stopping_rounds=None,\n",
       "             enable_categorical=False, eval_metric=None, feature_types=None,\n",
       "             gamma=None, grow_policy=None, importance_type=None,\n",
       "             interaction_constraints=None, learning_rate=None, max_bin=None,\n",
       "             max_cat_threshold=None, max_cat_to_onehot=None,\n",
       "             max_delta_step=None, max_depth=None, max_leaves=None,\n",
       "             min_child_weight=None, missing=nan, monotone_constraints=None,\n",
       "             multi_strategy=None, n_estimators=None, n_jobs=None,\n",
       "             num_parallel_tree=None, random_state=None, ...)"
      ]
     },
     "execution_count": 36,
     "metadata": {},
     "output_type": "execute_result"
    }
   ],
   "source": [
    "from sklearn.model_selection import train_test_split\n",
    "np.random.seed(42)\n",
    "x=joint_df.drop([\"GR\"], axis=1)\n",
    "y=joint_df[\"GR\"]\n",
    "\n",
    "#Train data\n",
    "x_train, y_train= (x,y)\n",
    "\n",
    "#select a model\n",
    "model=xgb.XGBRegressor()\n",
    "\n",
    "#fit data\n",
    "model.fit(x_train, y_train)"
   ]
  },
  {
   "cell_type": "code",
   "execution_count": 37,
   "id": "d55298d9",
   "metadata": {},
   "outputs": [
    {
     "data": {
      "text/html": [
       "<div>\n",
       "<style scoped>\n",
       "    .dataframe tbody tr th:only-of-type {\n",
       "        vertical-align: middle;\n",
       "    }\n",
       "\n",
       "    .dataframe tbody tr th {\n",
       "        vertical-align: top;\n",
       "    }\n",
       "\n",
       "    .dataframe thead th {\n",
       "        text-align: right;\n",
       "    }\n",
       "</style>\n",
       "<table border=\"1\" class=\"dataframe\">\n",
       "  <thead>\n",
       "    <tr style=\"text-align: right;\">\n",
       "      <th></th>\n",
       "      <th>FORCE_2020_LITHOFACIES_CONFIDENCE</th>\n",
       "      <th>FORCE_2020_LITHOFACIES_LITHOLOGY</th>\n",
       "      <th>CALI</th>\n",
       "      <th>BS</th>\n",
       "      <th>ROPA</th>\n",
       "      <th>ROP</th>\n",
       "      <th>RDEP</th>\n",
       "      <th>RMED</th>\n",
       "      <th>DTS</th>\n",
       "      <th>DTC</th>\n",
       "      <th>NPHI</th>\n",
       "      <th>PEF</th>\n",
       "      <th>GR</th>\n",
       "      <th>RHOB</th>\n",
       "      <th>DRHO</th>\n",
       "      <th>DEPTH_MD</th>\n",
       "      <th>X_LOC</th>\n",
       "      <th>Y_LOC</th>\n",
       "      <th>Z_LOC</th>\n",
       "    </tr>\n",
       "    <tr>\n",
       "      <th>DEPT</th>\n",
       "      <th></th>\n",
       "      <th></th>\n",
       "      <th></th>\n",
       "      <th></th>\n",
       "      <th></th>\n",
       "      <th></th>\n",
       "      <th></th>\n",
       "      <th></th>\n",
       "      <th></th>\n",
       "      <th></th>\n",
       "      <th></th>\n",
       "      <th></th>\n",
       "      <th></th>\n",
       "      <th></th>\n",
       "      <th></th>\n",
       "      <th></th>\n",
       "      <th></th>\n",
       "      <th></th>\n",
       "      <th></th>\n",
       "    </tr>\n",
       "  </thead>\n",
       "  <tbody>\n",
       "    <tr>\n",
       "      <th>372.0084</th>\n",
       "      <td>NaN</td>\n",
       "      <td>NaN</td>\n",
       "      <td>NaN</td>\n",
       "      <td>NaN</td>\n",
       "      <td>NaN</td>\n",
       "      <td>NaN</td>\n",
       "      <td>NaN</td>\n",
       "      <td>NaN</td>\n",
       "      <td>NaN</td>\n",
       "      <td>NaN</td>\n",
       "      <td>NaN</td>\n",
       "      <td>NaN</td>\n",
       "      <td>NaN</td>\n",
       "      <td>NaN</td>\n",
       "      <td>NaN</td>\n",
       "      <td>NaN</td>\n",
       "      <td>NaN</td>\n",
       "      <td>NaN</td>\n",
       "      <td>NaN</td>\n",
       "    </tr>\n",
       "    <tr>\n",
       "      <th>372.1604</th>\n",
       "      <td>NaN</td>\n",
       "      <td>NaN</td>\n",
       "      <td>NaN</td>\n",
       "      <td>NaN</td>\n",
       "      <td>NaN</td>\n",
       "      <td>NaN</td>\n",
       "      <td>NaN</td>\n",
       "      <td>NaN</td>\n",
       "      <td>NaN</td>\n",
       "      <td>NaN</td>\n",
       "      <td>NaN</td>\n",
       "      <td>NaN</td>\n",
       "      <td>NaN</td>\n",
       "      <td>NaN</td>\n",
       "      <td>NaN</td>\n",
       "      <td>NaN</td>\n",
       "      <td>NaN</td>\n",
       "      <td>NaN</td>\n",
       "      <td>NaN</td>\n",
       "    </tr>\n",
       "    <tr>\n",
       "      <th>372.3124</th>\n",
       "      <td>NaN</td>\n",
       "      <td>NaN</td>\n",
       "      <td>NaN</td>\n",
       "      <td>NaN</td>\n",
       "      <td>NaN</td>\n",
       "      <td>NaN</td>\n",
       "      <td>NaN</td>\n",
       "      <td>NaN</td>\n",
       "      <td>NaN</td>\n",
       "      <td>NaN</td>\n",
       "      <td>NaN</td>\n",
       "      <td>NaN</td>\n",
       "      <td>NaN</td>\n",
       "      <td>NaN</td>\n",
       "      <td>NaN</td>\n",
       "      <td>NaN</td>\n",
       "      <td>NaN</td>\n",
       "      <td>NaN</td>\n",
       "      <td>NaN</td>\n",
       "    </tr>\n",
       "    <tr>\n",
       "      <th>372.4644</th>\n",
       "      <td>NaN</td>\n",
       "      <td>NaN</td>\n",
       "      <td>NaN</td>\n",
       "      <td>NaN</td>\n",
       "      <td>NaN</td>\n",
       "      <td>NaN</td>\n",
       "      <td>NaN</td>\n",
       "      <td>NaN</td>\n",
       "      <td>NaN</td>\n",
       "      <td>NaN</td>\n",
       "      <td>NaN</td>\n",
       "      <td>NaN</td>\n",
       "      <td>NaN</td>\n",
       "      <td>NaN</td>\n",
       "      <td>NaN</td>\n",
       "      <td>NaN</td>\n",
       "      <td>NaN</td>\n",
       "      <td>NaN</td>\n",
       "      <td>NaN</td>\n",
       "    </tr>\n",
       "    <tr>\n",
       "      <th>372.6164</th>\n",
       "      <td>NaN</td>\n",
       "      <td>NaN</td>\n",
       "      <td>NaN</td>\n",
       "      <td>NaN</td>\n",
       "      <td>NaN</td>\n",
       "      <td>NaN</td>\n",
       "      <td>NaN</td>\n",
       "      <td>NaN</td>\n",
       "      <td>NaN</td>\n",
       "      <td>NaN</td>\n",
       "      <td>NaN</td>\n",
       "      <td>NaN</td>\n",
       "      <td>NaN</td>\n",
       "      <td>NaN</td>\n",
       "      <td>NaN</td>\n",
       "      <td>NaN</td>\n",
       "      <td>NaN</td>\n",
       "      <td>NaN</td>\n",
       "      <td>NaN</td>\n",
       "    </tr>\n",
       "  </tbody>\n",
       "</table>\n",
       "</div>"
      ],
      "text/plain": [
       "          FORCE_2020_LITHOFACIES_CONFIDENCE  FORCE_2020_LITHOFACIES_LITHOLOGY  \\\n",
       "DEPT                                                                            \n",
       "372.0084                                NaN                               NaN   \n",
       "372.1604                                NaN                               NaN   \n",
       "372.3124                                NaN                               NaN   \n",
       "372.4644                                NaN                               NaN   \n",
       "372.6164                                NaN                               NaN   \n",
       "\n",
       "          CALI  BS  ROPA  ROP  RDEP  RMED  DTS  DTC  NPHI  PEF  GR  RHOB  \\\n",
       "DEPT                                                                       \n",
       "372.0084   NaN NaN   NaN  NaN   NaN   NaN  NaN  NaN   NaN  NaN NaN   NaN   \n",
       "372.1604   NaN NaN   NaN  NaN   NaN   NaN  NaN  NaN   NaN  NaN NaN   NaN   \n",
       "372.3124   NaN NaN   NaN  NaN   NaN   NaN  NaN  NaN   NaN  NaN NaN   NaN   \n",
       "372.4644   NaN NaN   NaN  NaN   NaN   NaN  NaN  NaN   NaN  NaN NaN   NaN   \n",
       "372.6164   NaN NaN   NaN  NaN   NaN   NaN  NaN  NaN   NaN  NaN NaN   NaN   \n",
       "\n",
       "          DRHO  DEPTH_MD  X_LOC  Y_LOC  Z_LOC  \n",
       "DEPT                                           \n",
       "372.0084   NaN       NaN    NaN    NaN    NaN  \n",
       "372.1604   NaN       NaN    NaN    NaN    NaN  \n",
       "372.3124   NaN       NaN    NaN    NaN    NaN  \n",
       "372.4644   NaN       NaN    NaN    NaN    NaN  \n",
       "372.6164   NaN       NaN    NaN    NaN    NaN  "
      ]
     },
     "execution_count": 37,
     "metadata": {},
     "output_type": "execute_result"
    }
   ],
   "source": [
    "#import data set for testing\n",
    "las5=lasio.read(\"well-log-data/31_2-21 S.las\")\n",
    "df5=las5.df()\n",
    "df5.head()"
   ]
  },
  {
   "cell_type": "code",
   "execution_count": 38,
   "id": "713284e8",
   "metadata": {},
   "outputs": [
    {
     "name": "stdout",
     "output_type": "stream",
     "text": [
      "<class 'pandas.core.frame.DataFrame'>\n",
      "Index: 18731 entries, 372.0084 to 3218.9684\n",
      "Data columns (total 19 columns):\n",
      " #   Column                             Non-Null Count  Dtype  \n",
      "---  ------                             --------------  -----  \n",
      " 0   FORCE_2020_LITHOFACIES_CONFIDENCE  7841 non-null   float64\n",
      " 1   FORCE_2020_LITHOFACIES_LITHOLOGY   7840 non-null   float64\n",
      " 2   CALI                               7842 non-null   float64\n",
      " 3   BS                                 18674 non-null  float64\n",
      " 4   ROPA                               18680 non-null  float64\n",
      " 5   ROP                                18664 non-null  float64\n",
      " 6   RDEP                               18567 non-null  float64\n",
      " 7   RMED                               18524 non-null  float64\n",
      " 8   DTS                                15252 non-null  float64\n",
      " 9   DTC                                18199 non-null  float64\n",
      " 10  NPHI                               7835 non-null   float64\n",
      " 11  PEF                                7800 non-null   float64\n",
      " 12  GR                                 18666 non-null  float64\n",
      " 13  RHOB                               7800 non-null   float64\n",
      " 14  DRHO                               7846 non-null   float64\n",
      " 15  DEPTH_MD                           18567 non-null  float64\n",
      " 16  X_LOC                              18567 non-null  float64\n",
      " 17  Y_LOC                              18567 non-null  float64\n",
      " 18  Z_LOC                              18567 non-null  float64\n",
      "dtypes: float64(19)\n",
      "memory usage: 2.9 MB\n"
     ]
    }
   ],
   "source": [
    "df5.info()"
   ]
  },
  {
   "cell_type": "code",
   "execution_count": 39,
   "id": "a73b2526",
   "metadata": {},
   "outputs": [],
   "source": [
    "df5.drop([\"FORCE_2020_LITHOFACIES_CONFIDENCE\", \"FORCE_2020_LITHOFACIES_LITHOLOGY\", \"PEF\", \"BS\", \"DTS\", \"ROPA\",\"RHOB\", \"DRHO\"], axis=1, inplace=True)"
   ]
  },
  {
   "cell_type": "code",
   "execution_count": 40,
   "id": "1dea19eb",
   "metadata": {},
   "outputs": [
    {
     "name": "stdout",
     "output_type": "stream",
     "text": [
      "<class 'pandas.core.frame.DataFrame'>\n",
      "Index: 18731 entries, 372.0084 to 3218.9684\n",
      "Data columns (total 11 columns):\n",
      " #   Column    Non-Null Count  Dtype  \n",
      "---  ------    --------------  -----  \n",
      " 0   CALI      7842 non-null   float64\n",
      " 1   ROP       18664 non-null  float64\n",
      " 2   RDEP      18567 non-null  float64\n",
      " 3   RMED      18524 non-null  float64\n",
      " 4   DTC       18199 non-null  float64\n",
      " 5   NPHI      7835 non-null   float64\n",
      " 6   GR        18666 non-null  float64\n",
      " 7   DEPTH_MD  18567 non-null  float64\n",
      " 8   X_LOC     18567 non-null  float64\n",
      " 9   Y_LOC     18567 non-null  float64\n",
      " 10  Z_LOC     18567 non-null  float64\n",
      "dtypes: float64(11)\n",
      "memory usage: 1.7 MB\n"
     ]
    }
   ],
   "source": [
    "df5.info()"
   ]
  },
  {
   "cell_type": "code",
   "execution_count": 41,
   "id": "336bac0e",
   "metadata": {},
   "outputs": [
    {
     "data": {
      "text/plain": [
       "(18731, 11)"
      ]
     },
     "execution_count": 41,
     "metadata": {},
     "output_type": "execute_result"
    }
   ],
   "source": [
    "df5.shape"
   ]
  },
  {
   "cell_type": "code",
   "execution_count": 42,
   "id": "0dcaad1e",
   "metadata": {},
   "outputs": [
    {
     "data": {
      "text/plain": [
       "(7684, 11)"
      ]
     },
     "execution_count": 42,
     "metadata": {},
     "output_type": "execute_result"
    }
   ],
   "source": [
    "df5.dropna(inplace=True)\n",
    "df5.shape"
   ]
  },
  {
   "cell_type": "code",
   "execution_count": 43,
   "id": "5125795d",
   "metadata": {},
   "outputs": [
    {
     "data": {
      "text/plain": [
       "CALI        0\n",
       "ROP         0\n",
       "RDEP        0\n",
       "RMED        0\n",
       "DTC         0\n",
       "NPHI        0\n",
       "GR          0\n",
       "DEPTH_MD    0\n",
       "X_LOC       0\n",
       "Y_LOC       0\n",
       "Z_LOC       0\n",
       "dtype: int64"
      ]
     },
     "execution_count": 43,
     "metadata": {},
     "output_type": "execute_result"
    }
   ],
   "source": [
    "df5.isna().sum()"
   ]
  },
  {
   "cell_type": "code",
   "execution_count": 44,
   "id": "2b586059",
   "metadata": {},
   "outputs": [
    {
     "data": {
      "text/plain": [
       "-0.7425404946322522"
      ]
     },
     "execution_count": 44,
     "metadata": {},
     "output_type": "execute_result"
    }
   ],
   "source": [
    "from sklearn.model_selection import train_test_split\n",
    "np.random.seed(42)\n",
    "X=df5.drop([\"GR\"], axis=1)\n",
    "Y=df5[\"GR\"]\n",
    "\n",
    "#Test data\n",
    "x_test, y_test= (X,Y)\n",
    "\n",
    "#select a model\n",
    "model=xgb.XGBRegressor()\n",
    "\n",
    "#fit Model\n",
    "model.fit(x_train, y_train)\n",
    "\n",
    "#Score model\n",
    "model.score(x_test, y_test)"
   ]
  },
  {
   "cell_type": "markdown",
   "id": "c37ffe81",
   "metadata": {},
   "source": [
    "# Let's try something else"
   ]
  },
  {
   "cell_type": "code",
   "execution_count": 45,
   "id": "6fc236a0",
   "metadata": {},
   "outputs": [
    {
     "data": {
      "text/plain": [
       "CALI        0\n",
       "ROP         0\n",
       "RDEP        0\n",
       "RMED        0\n",
       "DTC         0\n",
       "NPHI        0\n",
       "GR          0\n",
       "DEPTH_MD    0\n",
       "X_LOC       0\n",
       "Y_LOC       0\n",
       "Z_LOC       0\n",
       "dtype: int64"
      ]
     },
     "execution_count": 45,
     "metadata": {},
     "output_type": "execute_result"
    }
   ],
   "source": [
    "merged_df=joint_df.dropna()\n",
    "merged_df.isna().sum()"
   ]
  },
  {
   "cell_type": "code",
   "execution_count": 46,
   "id": "6a1ef7dd",
   "metadata": {},
   "outputs": [
    {
     "data": {
      "text/html": [
       "<style>#sk-container-id-2 {color: black;}#sk-container-id-2 pre{padding: 0;}#sk-container-id-2 div.sk-toggleable {background-color: white;}#sk-container-id-2 label.sk-toggleable__label {cursor: pointer;display: block;width: 100%;margin-bottom: 0;padding: 0.3em;box-sizing: border-box;text-align: center;}#sk-container-id-2 label.sk-toggleable__label-arrow:before {content: \"▸\";float: left;margin-right: 0.25em;color: #696969;}#sk-container-id-2 label.sk-toggleable__label-arrow:hover:before {color: black;}#sk-container-id-2 div.sk-estimator:hover label.sk-toggleable__label-arrow:before {color: black;}#sk-container-id-2 div.sk-toggleable__content {max-height: 0;max-width: 0;overflow: hidden;text-align: left;background-color: #f0f8ff;}#sk-container-id-2 div.sk-toggleable__content pre {margin: 0.2em;color: black;border-radius: 0.25em;background-color: #f0f8ff;}#sk-container-id-2 input.sk-toggleable__control:checked~div.sk-toggleable__content {max-height: 200px;max-width: 100%;overflow: auto;}#sk-container-id-2 input.sk-toggleable__control:checked~label.sk-toggleable__label-arrow:before {content: \"▾\";}#sk-container-id-2 div.sk-estimator input.sk-toggleable__control:checked~label.sk-toggleable__label {background-color: #d4ebff;}#sk-container-id-2 div.sk-label input.sk-toggleable__control:checked~label.sk-toggleable__label {background-color: #d4ebff;}#sk-container-id-2 input.sk-hidden--visually {border: 0;clip: rect(1px 1px 1px 1px);clip: rect(1px, 1px, 1px, 1px);height: 1px;margin: -1px;overflow: hidden;padding: 0;position: absolute;width: 1px;}#sk-container-id-2 div.sk-estimator {font-family: monospace;background-color: #f0f8ff;border: 1px dotted black;border-radius: 0.25em;box-sizing: border-box;margin-bottom: 0.5em;}#sk-container-id-2 div.sk-estimator:hover {background-color: #d4ebff;}#sk-container-id-2 div.sk-parallel-item::after {content: \"\";width: 100%;border-bottom: 1px solid gray;flex-grow: 1;}#sk-container-id-2 div.sk-label:hover label.sk-toggleable__label {background-color: #d4ebff;}#sk-container-id-2 div.sk-serial::before {content: \"\";position: absolute;border-left: 1px solid gray;box-sizing: border-box;top: 0;bottom: 0;left: 50%;z-index: 0;}#sk-container-id-2 div.sk-serial {display: flex;flex-direction: column;align-items: center;background-color: white;padding-right: 0.2em;padding-left: 0.2em;position: relative;}#sk-container-id-2 div.sk-item {position: relative;z-index: 1;}#sk-container-id-2 div.sk-parallel {display: flex;align-items: stretch;justify-content: center;background-color: white;position: relative;}#sk-container-id-2 div.sk-item::before, #sk-container-id-2 div.sk-parallel-item::before {content: \"\";position: absolute;border-left: 1px solid gray;box-sizing: border-box;top: 0;bottom: 0;left: 50%;z-index: -1;}#sk-container-id-2 div.sk-parallel-item {display: flex;flex-direction: column;z-index: 1;position: relative;background-color: white;}#sk-container-id-2 div.sk-parallel-item:first-child::after {align-self: flex-end;width: 50%;}#sk-container-id-2 div.sk-parallel-item:last-child::after {align-self: flex-start;width: 50%;}#sk-container-id-2 div.sk-parallel-item:only-child::after {width: 0;}#sk-container-id-2 div.sk-dashed-wrapped {border: 1px dashed gray;margin: 0 0.4em 0.5em 0.4em;box-sizing: border-box;padding-bottom: 0.4em;background-color: white;}#sk-container-id-2 div.sk-label label {font-family: monospace;font-weight: bold;display: inline-block;line-height: 1.2em;}#sk-container-id-2 div.sk-label-container {text-align: center;}#sk-container-id-2 div.sk-container {/* jupyter's `normalize.less` sets `[hidden] { display: none; }` but bootstrap.min.css set `[hidden] { display: none !important; }` so we also need the `!important` here to be able to override the default hidden behavior on the sphinx rendered scikit-learn.org. See: https://github.com/scikit-learn/scikit-learn/issues/21755 */display: inline-block !important;position: relative;}#sk-container-id-2 div.sk-text-repr-fallback {display: none;}</style><div id=\"sk-container-id-2\" class=\"sk-top-container\"><div class=\"sk-text-repr-fallback\"><pre>XGBRegressor(base_score=None, booster=None, callbacks=None,\n",
       "             colsample_bylevel=None, colsample_bynode=None,\n",
       "             colsample_bytree=None, device=None, early_stopping_rounds=None,\n",
       "             enable_categorical=False, eval_metric=None, feature_types=None,\n",
       "             gamma=None, grow_policy=None, importance_type=None,\n",
       "             interaction_constraints=None, learning_rate=None, max_bin=None,\n",
       "             max_cat_threshold=None, max_cat_to_onehot=None,\n",
       "             max_delta_step=None, max_depth=None, max_leaves=None,\n",
       "             min_child_weight=None, missing=nan, monotone_constraints=None,\n",
       "             multi_strategy=None, n_estimators=None, n_jobs=None,\n",
       "             num_parallel_tree=None, random_state=None, ...)</pre><b>In a Jupyter environment, please rerun this cell to show the HTML representation or trust the notebook. <br />On GitHub, the HTML representation is unable to render, please try loading this page with nbviewer.org.</b></div><div class=\"sk-container\" hidden><div class=\"sk-item\"><div class=\"sk-estimator sk-toggleable\"><input class=\"sk-toggleable__control sk-hidden--visually\" id=\"sk-estimator-id-2\" type=\"checkbox\" checked><label for=\"sk-estimator-id-2\" class=\"sk-toggleable__label sk-toggleable__label-arrow\">XGBRegressor</label><div class=\"sk-toggleable__content\"><pre>XGBRegressor(base_score=None, booster=None, callbacks=None,\n",
       "             colsample_bylevel=None, colsample_bynode=None,\n",
       "             colsample_bytree=None, device=None, early_stopping_rounds=None,\n",
       "             enable_categorical=False, eval_metric=None, feature_types=None,\n",
       "             gamma=None, grow_policy=None, importance_type=None,\n",
       "             interaction_constraints=None, learning_rate=None, max_bin=None,\n",
       "             max_cat_threshold=None, max_cat_to_onehot=None,\n",
       "             max_delta_step=None, max_depth=None, max_leaves=None,\n",
       "             min_child_weight=None, missing=nan, monotone_constraints=None,\n",
       "             multi_strategy=None, n_estimators=None, n_jobs=None,\n",
       "             num_parallel_tree=None, random_state=None, ...)</pre></div></div></div></div></div>"
      ],
      "text/plain": [
       "XGBRegressor(base_score=None, booster=None, callbacks=None,\n",
       "             colsample_bylevel=None, colsample_bynode=None,\n",
       "             colsample_bytree=None, device=None, early_stopping_rounds=None,\n",
       "             enable_categorical=False, eval_metric=None, feature_types=None,\n",
       "             gamma=None, grow_policy=None, importance_type=None,\n",
       "             interaction_constraints=None, learning_rate=None, max_bin=None,\n",
       "             max_cat_threshold=None, max_cat_to_onehot=None,\n",
       "             max_delta_step=None, max_depth=None, max_leaves=None,\n",
       "             min_child_weight=None, missing=nan, monotone_constraints=None,\n",
       "             multi_strategy=None, n_estimators=None, n_jobs=None,\n",
       "             num_parallel_tree=None, random_state=None, ...)"
      ]
     },
     "execution_count": 46,
     "metadata": {},
     "output_type": "execute_result"
    }
   ],
   "source": [
    "from sklearn.model_selection import train_test_split\n",
    "np.random.seed(42)\n",
    "x=merged_df.drop([\"GR\"], axis=1)\n",
    "y=merged_df[\"GR\"]\n",
    "\n",
    "#Train data\n",
    "x_train, y_train= (x,y)\n",
    "\n",
    "#select a model\n",
    "model2=xgb.XGBRegressor()\n",
    "\n",
    "#fit data\n",
    "model2.fit(x_train, y_train)"
   ]
  },
  {
   "cell_type": "code",
   "execution_count": 47,
   "id": "8b7daf74",
   "metadata": {},
   "outputs": [
    {
     "data": {
      "text/plain": [
       "-1.0237487542040906"
      ]
     },
     "execution_count": 47,
     "metadata": {},
     "output_type": "execute_result"
    }
   ],
   "source": [
    "from sklearn.model_selection import train_test_split\n",
    "np.random.seed(42)\n",
    "X=df5.drop([\"GR\"], axis=1)\n",
    "Y=df5[\"GR\"]\n",
    "\n",
    "#Test data\n",
    "x_test, y_test= (X,Y)\n",
    "\n",
    "#select a model\n",
    "model2=xgb.XGBRegressor()\n",
    "\n",
    "#fit Model\n",
    "model2.fit(x_train, y_train)\n",
    "\n",
    "#Score model\n",
    "model2.score(x_test, y_test)"
   ]
  },
  {
   "cell_type": "code",
   "execution_count": 48,
   "id": "f307deda",
   "metadata": {},
   "outputs": [
    {
     "data": {
      "text/html": [
       "<div>\n",
       "<style scoped>\n",
       "    .dataframe tbody tr th:only-of-type {\n",
       "        vertical-align: middle;\n",
       "    }\n",
       "\n",
       "    .dataframe tbody tr th {\n",
       "        vertical-align: top;\n",
       "    }\n",
       "\n",
       "    .dataframe thead th {\n",
       "        text-align: right;\n",
       "    }\n",
       "</style>\n",
       "<table border=\"1\" class=\"dataframe\">\n",
       "  <thead>\n",
       "    <tr style=\"text-align: right;\">\n",
       "      <th></th>\n",
       "      <th>CALI</th>\n",
       "      <th>ROP</th>\n",
       "      <th>RDEP</th>\n",
       "      <th>RMED</th>\n",
       "      <th>DTC</th>\n",
       "      <th>NPHI</th>\n",
       "      <th>GR</th>\n",
       "      <th>DEPTH_MD</th>\n",
       "      <th>X_LOC</th>\n",
       "      <th>Y_LOC</th>\n",
       "      <th>Z_LOC</th>\n",
       "    </tr>\n",
       "    <tr>\n",
       "      <th>DEPT</th>\n",
       "      <th></th>\n",
       "      <th></th>\n",
       "      <th></th>\n",
       "      <th></th>\n",
       "      <th></th>\n",
       "      <th></th>\n",
       "      <th></th>\n",
       "      <th></th>\n",
       "      <th></th>\n",
       "      <th></th>\n",
       "      <th></th>\n",
       "    </tr>\n",
       "  </thead>\n",
       "  <tbody>\n",
       "    <tr>\n",
       "      <th>98.568</th>\n",
       "      <td>NaN</td>\n",
       "      <td>NaN</td>\n",
       "      <td>NaN</td>\n",
       "      <td>0.410763</td>\n",
       "      <td>206.222244</td>\n",
       "      <td>NaN</td>\n",
       "      <td>13.795514</td>\n",
       "      <td>NaN</td>\n",
       "      <td>NaN</td>\n",
       "      <td>NaN</td>\n",
       "      <td>NaN</td>\n",
       "    </tr>\n",
       "    <tr>\n",
       "      <th>98.720</th>\n",
       "      <td>NaN</td>\n",
       "      <td>NaN</td>\n",
       "      <td>8.0156</td>\n",
       "      <td>0.363398</td>\n",
       "      <td>206.221832</td>\n",
       "      <td>NaN</td>\n",
       "      <td>14.668177</td>\n",
       "      <td>98.720001</td>\n",
       "      <td>437642.15625</td>\n",
       "      <td>6470975.5</td>\n",
       "      <td>-73.719467</td>\n",
       "    </tr>\n",
       "    <tr>\n",
       "      <th>98.872</th>\n",
       "      <td>NaN</td>\n",
       "      <td>NaN</td>\n",
       "      <td>8.0156</td>\n",
       "      <td>0.340800</td>\n",
       "      <td>206.222977</td>\n",
       "      <td>NaN</td>\n",
       "      <td>14.063663</td>\n",
       "      <td>98.872002</td>\n",
       "      <td>437642.15625</td>\n",
       "      <td>6470975.5</td>\n",
       "      <td>-73.871468</td>\n",
       "    </tr>\n",
       "    <tr>\n",
       "      <th>99.024</th>\n",
       "      <td>NaN</td>\n",
       "      <td>NaN</td>\n",
       "      <td>8.0156</td>\n",
       "      <td>0.374822</td>\n",
       "      <td>206.224121</td>\n",
       "      <td>NaN</td>\n",
       "      <td>13.762383</td>\n",
       "      <td>99.024002</td>\n",
       "      <td>437642.15625</td>\n",
       "      <td>6470975.5</td>\n",
       "      <td>-74.023460</td>\n",
       "    </tr>\n",
       "    <tr>\n",
       "      <th>99.176</th>\n",
       "      <td>NaN</td>\n",
       "      <td>NaN</td>\n",
       "      <td>8.0156</td>\n",
       "      <td>0.421777</td>\n",
       "      <td>206.225281</td>\n",
       "      <td>NaN</td>\n",
       "      <td>13.474093</td>\n",
       "      <td>99.176003</td>\n",
       "      <td>437642.15625</td>\n",
       "      <td>6470975.5</td>\n",
       "      <td>-74.175461</td>\n",
       "    </tr>\n",
       "  </tbody>\n",
       "</table>\n",
       "</div>"
      ],
      "text/plain": [
       "        CALI  ROP    RDEP      RMED         DTC  NPHI         GR   DEPTH_MD  \\\n",
       "DEPT                                                                          \n",
       "98.568   NaN  NaN     NaN  0.410763  206.222244   NaN  13.795514        NaN   \n",
       "98.720   NaN  NaN  8.0156  0.363398  206.221832   NaN  14.668177  98.720001   \n",
       "98.872   NaN  NaN  8.0156  0.340800  206.222977   NaN  14.063663  98.872002   \n",
       "99.024   NaN  NaN  8.0156  0.374822  206.224121   NaN  13.762383  99.024002   \n",
       "99.176   NaN  NaN  8.0156  0.421777  206.225281   NaN  13.474093  99.176003   \n",
       "\n",
       "               X_LOC      Y_LOC      Z_LOC  \n",
       "DEPT                                        \n",
       "98.568           NaN        NaN        NaN  \n",
       "98.720  437642.15625  6470975.5 -73.719467  \n",
       "98.872  437642.15625  6470975.5 -73.871468  \n",
       "99.024  437642.15625  6470975.5 -74.023460  \n",
       "99.176  437642.15625  6470975.5 -74.175461  "
      ]
     },
     "execution_count": 48,
     "metadata": {},
     "output_type": "execute_result"
    }
   ],
   "source": [
    "joint_df.head()"
   ]
  },
  {
   "cell_type": "code",
   "execution_count": 49,
   "id": "f0f820f8",
   "metadata": {},
   "outputs": [
    {
     "data": {
      "text/plain": [
       "DEPT\n",
       "1999.7764    73.137222\n",
       "1999.9284    53.532814\n",
       "2000.0804    44.329887\n",
       "2000.2324    34.112160\n",
       "2000.3844    31.661253\n",
       "               ...    \n",
       "3167.5924    46.135769\n",
       "3167.7444    46.611904\n",
       "3167.8964    48.699074\n",
       "3168.0484    49.518017\n",
       "3168.2004    47.866756\n",
       "Name: GR, Length: 7684, dtype: float64"
      ]
     },
     "execution_count": 49,
     "metadata": {},
     "output_type": "execute_result"
    }
   ],
   "source": [
    "y_test"
   ]
  },
  {
   "cell_type": "code",
   "execution_count": 50,
   "id": "a35b744a",
   "metadata": {},
   "outputs": [
    {
     "data": {
      "text/plain": [
       "93.84311629173439"
      ]
     },
     "execution_count": 50,
     "metadata": {},
     "output_type": "execute_result"
    }
   ],
   "source": [
    "y_test.mean()"
   ]
  },
  {
   "cell_type": "markdown",
   "id": "1046a332",
   "metadata": {},
   "source": [
    "**predict model**"
   ]
  },
  {
   "cell_type": "code",
   "execution_count": 51,
   "id": "877b019f",
   "metadata": {},
   "outputs": [
    {
     "data": {
      "text/plain": [
       "array([73.13722229, 53.53281403, 44.32988739, ..., 48.69907379,\n",
       "       49.51801682, 47.86675644])"
      ]
     },
     "execution_count": 51,
     "metadata": {},
     "output_type": "execute_result"
    }
   ],
   "source": [
    "model.fit(x_train, y_train)\n",
    "model.predict(x_test)\n",
    "np.array(y_test)"
   ]
  },
  {
   "cell_type": "code",
   "execution_count": 52,
   "id": "1b68c477",
   "metadata": {},
   "outputs": [
    {
     "data": {
      "text/plain": [
       "0.0"
      ]
     },
     "execution_count": 52,
     "metadata": {},
     "output_type": "execute_result"
    }
   ],
   "source": [
    "model.fit(x_train, y_train)\n",
    "y_pred=model.predict(x_test)\n",
    "np.mean(y_pred==y_test)"
   ]
  },
  {
   "cell_type": "markdown",
   "id": "e70ffad8",
   "metadata": {},
   "source": [
    "**Evaluate model**"
   ]
  },
  {
   "cell_type": "code",
   "execution_count": 53,
   "id": "52f2219d",
   "metadata": {},
   "outputs": [
    {
     "data": {
      "text/plain": [
       "array([93.84311629, 93.84311629, 93.84311629, 93.84311629, 93.84311629,\n",
       "       93.84311629, 93.84311629, 93.84311629])"
      ]
     },
     "execution_count": 53,
     "metadata": {},
     "output_type": "execute_result"
    }
   ],
   "source": [
    "#Rsquared coefficient of determination is a statistical measure that represents the proportion of the variance in the target\n",
    "#that is explained by the features in a regression model.\n",
    "\n",
    "from sklearn.metrics import r2_score\n",
    "\n",
    "#create an array with y_test mean\n",
    "y_test_mean= np.full(len(y_test), y_test.mean())\n",
    "\n",
    "y_test_mean[:8]"
   ]
  },
  {
   "cell_type": "code",
   "execution_count": 54,
   "id": "5812f445",
   "metadata": {},
   "outputs": [
    {
     "data": {
      "text/plain": [
       "0.0"
      ]
     },
     "execution_count": 54,
     "metadata": {},
     "output_type": "execute_result"
    }
   ],
   "source": [
    "r2_score(y_true=y_test, y_pred=y_test_mean)"
   ]
  },
  {
   "cell_type": "code",
   "execution_count": 55,
   "id": "47212e6a",
   "metadata": {},
   "outputs": [
    {
     "data": {
      "text/plain": [
       "1.0"
      ]
     },
     "execution_count": 55,
     "metadata": {},
     "output_type": "execute_result"
    }
   ],
   "source": [
    "r2_score(y_true=y_test, y_pred=y_test)"
   ]
  },
  {
   "cell_type": "code",
   "execution_count": 56,
   "id": "848a632f",
   "metadata": {},
   "outputs": [
    {
     "data": {
      "text/html": [
       "<div>\n",
       "<style scoped>\n",
       "    .dataframe tbody tr th:only-of-type {\n",
       "        vertical-align: middle;\n",
       "    }\n",
       "\n",
       "    .dataframe tbody tr th {\n",
       "        vertical-align: top;\n",
       "    }\n",
       "\n",
       "    .dataframe thead th {\n",
       "        text-align: right;\n",
       "    }\n",
       "</style>\n",
       "<table border=\"1\" class=\"dataframe\">\n",
       "  <thead>\n",
       "    <tr style=\"text-align: right;\">\n",
       "      <th></th>\n",
       "      <th>actual values</th>\n",
       "      <th>predicted values</th>\n",
       "      <th>differences</th>\n",
       "    </tr>\n",
       "    <tr>\n",
       "      <th>DEPT</th>\n",
       "      <th></th>\n",
       "      <th></th>\n",
       "      <th></th>\n",
       "    </tr>\n",
       "  </thead>\n",
       "  <tbody>\n",
       "    <tr>\n",
       "      <th>1999.7764</th>\n",
       "      <td>73.137222</td>\n",
       "      <td>56.567051</td>\n",
       "      <td>-16.570171</td>\n",
       "    </tr>\n",
       "    <tr>\n",
       "      <th>1999.9284</th>\n",
       "      <td>53.532814</td>\n",
       "      <td>55.648621</td>\n",
       "      <td>2.115807</td>\n",
       "    </tr>\n",
       "    <tr>\n",
       "      <th>2000.0804</th>\n",
       "      <td>44.329887</td>\n",
       "      <td>60.179100</td>\n",
       "      <td>15.849213</td>\n",
       "    </tr>\n",
       "    <tr>\n",
       "      <th>2000.2324</th>\n",
       "      <td>34.112160</td>\n",
       "      <td>65.379738</td>\n",
       "      <td>31.267578</td>\n",
       "    </tr>\n",
       "    <tr>\n",
       "      <th>2000.3844</th>\n",
       "      <td>31.661253</td>\n",
       "      <td>59.916641</td>\n",
       "      <td>28.255388</td>\n",
       "    </tr>\n",
       "    <tr>\n",
       "      <th>2000.5364</th>\n",
       "      <td>33.186008</td>\n",
       "      <td>58.528385</td>\n",
       "      <td>25.342377</td>\n",
       "    </tr>\n",
       "    <tr>\n",
       "      <th>2000.6884</th>\n",
       "      <td>34.737228</td>\n",
       "      <td>52.665287</td>\n",
       "      <td>17.928059</td>\n",
       "    </tr>\n",
       "    <tr>\n",
       "      <th>2000.8404</th>\n",
       "      <td>40.396976</td>\n",
       "      <td>55.309162</td>\n",
       "      <td>14.912186</td>\n",
       "    </tr>\n",
       "    <tr>\n",
       "      <th>2000.9924</th>\n",
       "      <td>51.308205</td>\n",
       "      <td>70.973984</td>\n",
       "      <td>19.665779</td>\n",
       "    </tr>\n",
       "    <tr>\n",
       "      <th>2001.1444</th>\n",
       "      <td>67.964119</td>\n",
       "      <td>74.891464</td>\n",
       "      <td>6.927345</td>\n",
       "    </tr>\n",
       "  </tbody>\n",
       "</table>\n",
       "</div>"
      ],
      "text/plain": [
       "           actual values  predicted values  differences\n",
       "DEPT                                                   \n",
       "1999.7764      73.137222         56.567051   -16.570171\n",
       "1999.9284      53.532814         55.648621     2.115807\n",
       "2000.0804      44.329887         60.179100    15.849213\n",
       "2000.2324      34.112160         65.379738    31.267578\n",
       "2000.3844      31.661253         59.916641    28.255388\n",
       "2000.5364      33.186008         58.528385    25.342377\n",
       "2000.6884      34.737228         52.665287    17.928059\n",
       "2000.8404      40.396976         55.309162    14.912186\n",
       "2000.9924      51.308205         70.973984    19.665779\n",
       "2001.1444      67.964119         74.891464     6.927345"
      ]
     },
     "execution_count": 56,
     "metadata": {},
     "output_type": "execute_result"
    }
   ],
   "source": [
    "df=pd.DataFrame(data={\"actual values\":y_test, \"predicted values\":y_pred})\n",
    "df[\"differences\"]=df[\"predicted values\"]-df[\"actual values\"]\n",
    "df.head(10)"
   ]
  },
  {
   "cell_type": "code",
   "execution_count": 57,
   "id": "081084aa",
   "metadata": {},
   "outputs": [
    {
     "data": {
      "text/plain": [
       "44.872821205923685"
      ]
     },
     "execution_count": 57,
     "metadata": {},
     "output_type": "execute_result"
    }
   ],
   "source": [
    "np.abs(df[\"differences\"]).mean()"
   ]
  },
  {
   "cell_type": "code",
   "execution_count": 58,
   "id": "cea2c0ea",
   "metadata": {},
   "outputs": [
    {
     "data": {
      "text/plain": [
       "2745.078945992853"
      ]
     },
     "execution_count": 58,
     "metadata": {},
     "output_type": "execute_result"
    }
   ],
   "source": [
    "#Evaluation using MSE\n",
    "# MSE is the average of the absolute differences between predictions and actual values.\n",
    "#It gives you an idea of how wrong your model predictions are\n",
    "\n",
    "from sklearn.metrics import mean_squared_error\n",
    "y_pred=model.predict(x_test)\n",
    "mse= mean_squared_error(y_test, y_pred)\n",
    "mse"
   ]
  },
  {
   "cell_type": "code",
   "execution_count": 59,
   "id": "49d8de14",
   "metadata": {},
   "outputs": [
    {
     "data": {
      "text/html": [
       "<div>\n",
       "<style scoped>\n",
       "    .dataframe tbody tr th:only-of-type {\n",
       "        vertical-align: middle;\n",
       "    }\n",
       "\n",
       "    .dataframe tbody tr th {\n",
       "        vertical-align: top;\n",
       "    }\n",
       "\n",
       "    .dataframe thead th {\n",
       "        text-align: right;\n",
       "    }\n",
       "</style>\n",
       "<table border=\"1\" class=\"dataframe\">\n",
       "  <thead>\n",
       "    <tr style=\"text-align: right;\">\n",
       "      <th></th>\n",
       "      <th>actual values</th>\n",
       "      <th>predicted values</th>\n",
       "      <th>differences</th>\n",
       "      <th>squared_difference</th>\n",
       "    </tr>\n",
       "    <tr>\n",
       "      <th>DEPT</th>\n",
       "      <th></th>\n",
       "      <th></th>\n",
       "      <th></th>\n",
       "      <th></th>\n",
       "    </tr>\n",
       "  </thead>\n",
       "  <tbody>\n",
       "    <tr>\n",
       "      <th>1999.7764</th>\n",
       "      <td>73.137222</td>\n",
       "      <td>56.567051</td>\n",
       "      <td>-16.570171</td>\n",
       "      <td>274.570579</td>\n",
       "    </tr>\n",
       "    <tr>\n",
       "      <th>1999.9284</th>\n",
       "      <td>53.532814</td>\n",
       "      <td>55.648621</td>\n",
       "      <td>2.115807</td>\n",
       "      <td>4.476637</td>\n",
       "    </tr>\n",
       "    <tr>\n",
       "      <th>2000.0804</th>\n",
       "      <td>44.329887</td>\n",
       "      <td>60.179100</td>\n",
       "      <td>15.849213</td>\n",
       "      <td>251.197542</td>\n",
       "    </tr>\n",
       "    <tr>\n",
       "      <th>2000.2324</th>\n",
       "      <td>34.112160</td>\n",
       "      <td>65.379738</td>\n",
       "      <td>31.267578</td>\n",
       "      <td>977.661442</td>\n",
       "    </tr>\n",
       "    <tr>\n",
       "      <th>2000.3844</th>\n",
       "      <td>31.661253</td>\n",
       "      <td>59.916641</td>\n",
       "      <td>28.255388</td>\n",
       "      <td>798.366966</td>\n",
       "    </tr>\n",
       "    <tr>\n",
       "      <th>2000.5364</th>\n",
       "      <td>33.186008</td>\n",
       "      <td>58.528385</td>\n",
       "      <td>25.342377</td>\n",
       "      <td>642.236057</td>\n",
       "    </tr>\n",
       "    <tr>\n",
       "      <th>2000.6884</th>\n",
       "      <td>34.737228</td>\n",
       "      <td>52.665287</td>\n",
       "      <td>17.928059</td>\n",
       "      <td>321.415286</td>\n",
       "    </tr>\n",
       "    <tr>\n",
       "      <th>2000.8404</th>\n",
       "      <td>40.396976</td>\n",
       "      <td>55.309162</td>\n",
       "      <td>14.912186</td>\n",
       "      <td>222.373281</td>\n",
       "    </tr>\n",
       "    <tr>\n",
       "      <th>2000.9924</th>\n",
       "      <td>51.308205</td>\n",
       "      <td>70.973984</td>\n",
       "      <td>19.665779</td>\n",
       "      <td>386.742868</td>\n",
       "    </tr>\n",
       "    <tr>\n",
       "      <th>2001.1444</th>\n",
       "      <td>67.964119</td>\n",
       "      <td>74.891464</td>\n",
       "      <td>6.927345</td>\n",
       "      <td>47.988113</td>\n",
       "    </tr>\n",
       "  </tbody>\n",
       "</table>\n",
       "</div>"
      ],
      "text/plain": [
       "           actual values  predicted values  differences  squared_difference\n",
       "DEPT                                                                       \n",
       "1999.7764      73.137222         56.567051   -16.570171          274.570579\n",
       "1999.9284      53.532814         55.648621     2.115807            4.476637\n",
       "2000.0804      44.329887         60.179100    15.849213          251.197542\n",
       "2000.2324      34.112160         65.379738    31.267578          977.661442\n",
       "2000.3844      31.661253         59.916641    28.255388          798.366966\n",
       "2000.5364      33.186008         58.528385    25.342377          642.236057\n",
       "2000.6884      34.737228         52.665287    17.928059          321.415286\n",
       "2000.8404      40.396976         55.309162    14.912186          222.373281\n",
       "2000.9924      51.308205         70.973984    19.665779          386.742868\n",
       "2001.1444      67.964119         74.891464     6.927345           47.988113"
      ]
     },
     "execution_count": 59,
     "metadata": {},
     "output_type": "execute_result"
    }
   ],
   "source": [
    "df[\"squared_difference\"]=np.square(df[\"differences\"])\n",
    "df.head(10)"
   ]
  },
  {
   "cell_type": "markdown",
   "id": "da5fb40d",
   "metadata": {},
   "source": [
    "# Try another model"
   ]
  },
  {
   "cell_type": "code",
   "execution_count": 60,
   "id": "df742162",
   "metadata": {},
   "outputs": [
    {
     "data": {
      "text/plain": [
       "-0.8066518029756147"
      ]
     },
     "execution_count": 60,
     "metadata": {},
     "output_type": "execute_result"
    }
   ],
   "source": [
    "from sklearn.ensemble import RandomForestRegressor\n",
    "model3=RandomForestRegressor()\n",
    "model3.fit(x_train,y_train)\n",
    "model3.score(x_test,y_test)\n"
   ]
  },
  {
   "cell_type": "markdown",
   "id": "87e9ef7a",
   "metadata": {},
   "source": [
    "# Plot the actual and predicted Gamma log values to compare their similiraities and differences"
   ]
  },
  {
   "cell_type": "code",
   "execution_count": 61,
   "id": "0e42632a",
   "metadata": {},
   "outputs": [
    {
     "data": {
      "text/html": [
       "<div>\n",
       "<style scoped>\n",
       "    .dataframe tbody tr th:only-of-type {\n",
       "        vertical-align: middle;\n",
       "    }\n",
       "\n",
       "    .dataframe tbody tr th {\n",
       "        vertical-align: top;\n",
       "    }\n",
       "\n",
       "    .dataframe thead th {\n",
       "        text-align: right;\n",
       "    }\n",
       "</style>\n",
       "<table border=\"1\" class=\"dataframe\">\n",
       "  <thead>\n",
       "    <tr style=\"text-align: right;\">\n",
       "      <th></th>\n",
       "      <th>actual values</th>\n",
       "      <th>predicted values</th>\n",
       "      <th>differences</th>\n",
       "      <th>squared_difference</th>\n",
       "    </tr>\n",
       "    <tr>\n",
       "      <th>DEPT</th>\n",
       "      <th></th>\n",
       "      <th></th>\n",
       "      <th></th>\n",
       "      <th></th>\n",
       "    </tr>\n",
       "  </thead>\n",
       "  <tbody>\n",
       "    <tr>\n",
       "      <th>1999.7764</th>\n",
       "      <td>73.137222</td>\n",
       "      <td>56.567051</td>\n",
       "      <td>-16.570171</td>\n",
       "      <td>274.570579</td>\n",
       "    </tr>\n",
       "    <tr>\n",
       "      <th>1999.9284</th>\n",
       "      <td>53.532814</td>\n",
       "      <td>55.648621</td>\n",
       "      <td>2.115807</td>\n",
       "      <td>4.476637</td>\n",
       "    </tr>\n",
       "    <tr>\n",
       "      <th>2000.0804</th>\n",
       "      <td>44.329887</td>\n",
       "      <td>60.179100</td>\n",
       "      <td>15.849213</td>\n",
       "      <td>251.197542</td>\n",
       "    </tr>\n",
       "    <tr>\n",
       "      <th>2000.2324</th>\n",
       "      <td>34.112160</td>\n",
       "      <td>65.379738</td>\n",
       "      <td>31.267578</td>\n",
       "      <td>977.661442</td>\n",
       "    </tr>\n",
       "    <tr>\n",
       "      <th>2000.3844</th>\n",
       "      <td>31.661253</td>\n",
       "      <td>59.916641</td>\n",
       "      <td>28.255388</td>\n",
       "      <td>798.366966</td>\n",
       "    </tr>\n",
       "    <tr>\n",
       "      <th>...</th>\n",
       "      <td>...</td>\n",
       "      <td>...</td>\n",
       "      <td>...</td>\n",
       "      <td>...</td>\n",
       "    </tr>\n",
       "    <tr>\n",
       "      <th>3167.5924</th>\n",
       "      <td>46.135769</td>\n",
       "      <td>145.637466</td>\n",
       "      <td>99.501698</td>\n",
       "      <td>9900.587813</td>\n",
       "    </tr>\n",
       "    <tr>\n",
       "      <th>3167.7444</th>\n",
       "      <td>46.611904</td>\n",
       "      <td>114.699074</td>\n",
       "      <td>68.087170</td>\n",
       "      <td>4635.862671</td>\n",
       "    </tr>\n",
       "    <tr>\n",
       "      <th>3167.8964</th>\n",
       "      <td>48.699074</td>\n",
       "      <td>92.021919</td>\n",
       "      <td>43.322845</td>\n",
       "      <td>1876.868939</td>\n",
       "    </tr>\n",
       "    <tr>\n",
       "      <th>3168.0484</th>\n",
       "      <td>49.518017</td>\n",
       "      <td>76.242149</td>\n",
       "      <td>26.724133</td>\n",
       "      <td>714.179260</td>\n",
       "    </tr>\n",
       "    <tr>\n",
       "      <th>3168.2004</th>\n",
       "      <td>47.866756</td>\n",
       "      <td>71.644684</td>\n",
       "      <td>23.777927</td>\n",
       "      <td>565.389831</td>\n",
       "    </tr>\n",
       "  </tbody>\n",
       "</table>\n",
       "<p>7684 rows × 4 columns</p>\n",
       "</div>"
      ],
      "text/plain": [
       "           actual values  predicted values  differences  squared_difference\n",
       "DEPT                                                                       \n",
       "1999.7764      73.137222         56.567051   -16.570171          274.570579\n",
       "1999.9284      53.532814         55.648621     2.115807            4.476637\n",
       "2000.0804      44.329887         60.179100    15.849213          251.197542\n",
       "2000.2324      34.112160         65.379738    31.267578          977.661442\n",
       "2000.3844      31.661253         59.916641    28.255388          798.366966\n",
       "...                  ...               ...          ...                 ...\n",
       "3167.5924      46.135769        145.637466    99.501698         9900.587813\n",
       "3167.7444      46.611904        114.699074    68.087170         4635.862671\n",
       "3167.8964      48.699074         92.021919    43.322845         1876.868939\n",
       "3168.0484      49.518017         76.242149    26.724133          714.179260\n",
       "3168.2004      47.866756         71.644684    23.777927          565.389831\n",
       "\n",
       "[7684 rows x 4 columns]"
      ]
     },
     "execution_count": 61,
     "metadata": {},
     "output_type": "execute_result"
    }
   ],
   "source": [
    "df"
   ]
  },
  {
   "cell_type": "code",
   "execution_count": 65,
   "id": "107fa55e",
   "metadata": {},
   "outputs": [],
   "source": [
    "df.to_csv(\"new_df\", index=True)"
   ]
  },
  {
   "cell_type": "code",
   "execution_count": 66,
   "id": "06c221a2",
   "metadata": {},
   "outputs": [
    {
     "data": {
      "text/html": [
       "<div>\n",
       "<style scoped>\n",
       "    .dataframe tbody tr th:only-of-type {\n",
       "        vertical-align: middle;\n",
       "    }\n",
       "\n",
       "    .dataframe tbody tr th {\n",
       "        vertical-align: top;\n",
       "    }\n",
       "\n",
       "    .dataframe thead th {\n",
       "        text-align: right;\n",
       "    }\n",
       "</style>\n",
       "<table border=\"1\" class=\"dataframe\">\n",
       "  <thead>\n",
       "    <tr style=\"text-align: right;\">\n",
       "      <th></th>\n",
       "      <th>DEPT</th>\n",
       "      <th>actual values</th>\n",
       "      <th>predicted values</th>\n",
       "      <th>differences</th>\n",
       "      <th>squared_difference</th>\n",
       "    </tr>\n",
       "  </thead>\n",
       "  <tbody>\n",
       "    <tr>\n",
       "      <th>0</th>\n",
       "      <td>1999.7764</td>\n",
       "      <td>73.137222</td>\n",
       "      <td>56.56705</td>\n",
       "      <td>-16.570171</td>\n",
       "      <td>274.570579</td>\n",
       "    </tr>\n",
       "    <tr>\n",
       "      <th>1</th>\n",
       "      <td>1999.9284</td>\n",
       "      <td>53.532814</td>\n",
       "      <td>55.64862</td>\n",
       "      <td>2.115807</td>\n",
       "      <td>4.476637</td>\n",
       "    </tr>\n",
       "    <tr>\n",
       "      <th>2</th>\n",
       "      <td>2000.0804</td>\n",
       "      <td>44.329887</td>\n",
       "      <td>60.17910</td>\n",
       "      <td>15.849213</td>\n",
       "      <td>251.197542</td>\n",
       "    </tr>\n",
       "    <tr>\n",
       "      <th>3</th>\n",
       "      <td>2000.2324</td>\n",
       "      <td>34.112160</td>\n",
       "      <td>65.37974</td>\n",
       "      <td>31.267578</td>\n",
       "      <td>977.661442</td>\n",
       "    </tr>\n",
       "    <tr>\n",
       "      <th>4</th>\n",
       "      <td>2000.3844</td>\n",
       "      <td>31.661253</td>\n",
       "      <td>59.91664</td>\n",
       "      <td>28.255388</td>\n",
       "      <td>798.366966</td>\n",
       "    </tr>\n",
       "  </tbody>\n",
       "</table>\n",
       "</div>"
      ],
      "text/plain": [
       "        DEPT  actual values  predicted values  differences  squared_difference\n",
       "0  1999.7764      73.137222          56.56705   -16.570171          274.570579\n",
       "1  1999.9284      53.532814          55.64862     2.115807            4.476637\n",
       "2  2000.0804      44.329887          60.17910    15.849213          251.197542\n",
       "3  2000.2324      34.112160          65.37974    31.267578          977.661442\n",
       "4  2000.3844      31.661253          59.91664    28.255388          798.366966"
      ]
     },
     "execution_count": 66,
     "metadata": {},
     "output_type": "execute_result"
    }
   ],
   "source": [
    "new_df= pd.read_csv(\"new_df\")\n",
    "new_df.head()"
   ]
  },
  {
   "cell_type": "code",
   "execution_count": 70,
   "id": "0bff8b69",
   "metadata": {},
   "outputs": [
    {
     "data": {
      "text/plain": [
       "Text(0.5, 1.0, 'Comparison Between Actual and Predicted Gamma Log Value')"
      ]
     },
     "execution_count": 70,
     "metadata": {},
     "output_type": "execute_result"
    },
    {
     "data": {
      "image/png": "[encoded data removed]",
      "text/plain": [
       "<Figure size 1000x1000 with 2 Axes>"
      ]
     },
     "metadata": {},
     "output_type": "display_data"
    }
   ],
   "source": [
    "fig, ((ax1, ax2))= plt.subplots(nrows=1,\n",
    "                                    ncols=2,\n",
    "                                    figsize=(10,10))\n",
    "ax1.plot(\"actual values\", \"DEPT\", data=new_df, color=\"yellow\", lw=0.5)\n",
    "ax1.set(xlabel=\"Actual Gamma Value\",\n",
    "      ylabel=\"Depth(m)\",\n",
    "       xlim=(0, 200),\n",
    "       ylim=(3168.2004, 1999.7764))\n",
    "ax1.grid()\n",
    "\n",
    "ax2.plot(\"predicted values\", \"DEPT\", data=new_df, color=\"green\", lw=0.5)\n",
    "ax2.set(xlabel=\"Predicted Gamma Value\",\n",
    "        xlim=(0, 200),\n",
    "       ylim=(3168.2004, 1999.7764))\n",
    "ax2.grid()\n",
    "\n",
    "\n",
    "ax1.xaxis.set_label_position(\"top\")\n",
    "ax2.xaxis.set_label_position(\"top\")\n",
    "\n",
    "\n",
    "plt.title(\"Comparison Between Actual and Predicted Gamma Log Value\", fontsize=16, fontweight='bold', color='black')\n"
   ]
  },
  {
   "cell_type": "code",
   "execution_count": null,
   "id": "090ec69a",
   "metadata": {},
   "outputs": [],
   "source": []
  }
 ],
 "metadata": {
  "kernelspec": {
   "display_name": "Python 3 (ipykernel)",
   "language": "python",
   "name": "python3"
  },
  "language_info": {
   "codemirror_mode": {
    "name": "ipython",
    "version": 3
   },
   "file_extension": ".py",
   "mimetype": "text/x-python",
   "name": "python",
   "nbconvert_exporter": "python",
   "pygments_lexer": "ipython3",
   "version": "3.10.13"
  }
 },
 "nbformat": 4,
 "nbformat_minor": 5
}
